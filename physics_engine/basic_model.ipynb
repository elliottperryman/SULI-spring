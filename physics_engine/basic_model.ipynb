{
 "cells": [
  {
   "cell_type": "code",
   "execution_count": null,
   "metadata": {},
   "outputs": [],
   "source": [
    "import numpy as np"
   ]
  },
  {
   "cell_type": "code",
   "execution_count": null,
   "metadata": {},
   "outputs": [],
   "source": [
    "import matplotlib.pyplot as plt"
   ]
  },
  {
   "cell_type": "code",
   "execution_count": null,
   "metadata": {},
   "outputs": [],
   "source": [
    "class point(object):\n",
    "    def __init__(self, x, y, z):\n",
    "        x,y,z = np.float64([x,y,z])\n",
    "        self.x = x\n",
    "        self.y = y\n",
    "        self.z = z\n",
    "        \n",
    "    def move(self, x, y, z):\n",
    "        self.x += x\n",
    "        self.y += y\n",
    "        self.z += z\n",
    "        \n",
    "    def __sub__(self, other):\n",
    "        x_diff = self.x-other.x\n",
    "        y_diff = self.y-other.y\n",
    "        z_diff = self.z-other.z\n",
    "        pt = point(x_diff, y_diff, z_diff)\n",
    "        return pt\n",
    "    \n",
    "    def __add__(self, other):\n",
    "        x_diff = self.x+other.x\n",
    "        y_diff = self.y+other.y\n",
    "        z_diff = self.z+other.z\n",
    "        pt = point(x_diff, y_diff, z_diff)\n",
    "        return pt   \n",
    "    \n",
    "    def __mul__(self, scalar):\n",
    "        x_diff = self.x*scalar\n",
    "        y_diff = self.y*scalar\n",
    "        z_diff = self.z*scalar\n",
    "        pt = point(x_diff, y_diff, z_diff)\n",
    "        return pt \n",
    "    \n",
    "    def __rmul__(self, scalar):\n",
    "        return self.__mul__(scalar)\n",
    "    \n",
    "    def dist(self):\n",
    "        a = np.array([self.x,self.y,self.z],\n",
    "                     dtype=np.float64)\n",
    "        return np.sqrt(np.sum(np.power(a,2)))\n",
    "\n",
    "    def print(self):\n",
    "        print(self.x.round(3), self.y.round(3), self.z.round(3))"
   ]
  },
  {
   "cell_type": "code",
   "execution_count": null,
   "metadata": {},
   "outputs": [],
   "source": [
    "class spring(object):\n",
    "    def __init__(self, start, end):\n",
    "        self.start = start\n",
    "        self.end = end\n",
    "        self.relaxed_length = (end-start).dist()\n",
    "        \n",
    "    def force(self, startMove, endMove):\n",
    "        newEnd = self.end + endMove\n",
    "        newStart = self.start + startMove\n",
    "        newDist = (newEnd-newStart).dist()\n",
    "        force = newDist-self.relaxed_length\n",
    "        forceVector = force*(newEnd-newStart)\n",
    "        return forceVector, -1.*forceVector\n",
    "        \n",
    "    def print(self):\n",
    "        self.start.print()\n",
    "        print(' is connected to ')\n",
    "        self.end.print()\n",
    "        print('')"
   ]
  },
  {
   "cell_type": "code",
   "execution_count": null,
   "metadata": {},
   "outputs": [],
   "source": [
    "class tetrahedron(object):\n",
    "    def __init__(self):\n",
    "        locs = [\n",
    "            (1, 1, 1),\n",
    "            (1, -1, -1),\n",
    "            (-1, 1, -1),\n",
    "            (-1, -1, 1),\n",
    "        ]\n",
    "        indices = [\n",
    "            (0,1),(0,2),(0,3),\n",
    "            (1,2),(1,3),\n",
    "            (2,3),\n",
    "        ]\n",
    "        self.pts = [point(*x) for x in locs]\n",
    "        self.springs = [spring(self.pts[x[0]],self.pts[x[1]]) for x in indices]\n",
    "        \n",
    "    def print(self):\n",
    "        for pt in self.pts: pt.print()\n",
    "        for s in self.springs: s.print()"
   ]
  },
  {
   "cell_type": "code",
   "execution_count": null,
   "metadata": {},
   "outputs": [],
   "source": [
    "first = tetrahedron()"
   ]
  },
  {
   "cell_type": "code",
   "execution_count": null,
   "metadata": {},
   "outputs": [],
   "source": [
    "(first.pts[0]-first.pts[1]).dist()"
   ]
  },
  {
   "cell_type": "code",
   "execution_count": null,
   "metadata": {},
   "outputs": [],
   "source": [
    "s = first.springs[0]"
   ]
  },
  {
   "cell_type": "code",
   "execution_count": null,
   "metadata": {},
   "outputs": [],
   "source": [
    "s.print()"
   ]
  },
  {
   "cell_type": "markdown",
   "metadata": {},
   "source": [
    "### I should see the forces on the spring start and end behaving sensibly"
   ]
  },
  {
   "cell_type": "code",
   "execution_count": null,
   "metadata": {},
   "outputs": [],
   "source": [
    "p1 = point(0,0,0)\n",
    "p2 = point(0,0,0)"
   ]
  },
  {
   "cell_type": "code",
   "execution_count": null,
   "metadata": {},
   "outputs": [],
   "source": [
    "s = spring(p1,p2)"
   ]
  },
  {
   "cell_type": "code",
   "execution_count": null,
   "metadata": {},
   "outputs": [],
   "source": [
    "zero = point(0,0,0)"
   ]
  },
  {
   "cell_type": "code",
   "execution_count": null,
   "metadata": {},
   "outputs": [],
   "source": [
    "move = point(0,1,0)"
   ]
  },
  {
   "cell_type": "code",
   "execution_count": null,
   "metadata": {},
   "outputs": [],
   "source": [
    "for z in s.force(zero, move): z.print()"
   ]
  },
  {
   "cell_type": "code",
   "execution_count": null,
   "metadata": {},
   "outputs": [],
   "source": []
  },
  {
   "cell_type": "code",
   "execution_count": null,
   "metadata": {},
   "outputs": [],
   "source": [
    "move = point(1,2,4)"
   ]
  },
  {
   "cell_type": "code",
   "execution_count": null,
   "metadata": {},
   "outputs": [],
   "source": [
    "for z in s.force(zero, move): z.print()"
   ]
  },
  {
   "cell_type": "code",
   "execution_count": null,
   "metadata": {},
   "outputs": [],
   "source": []
  },
  {
   "cell_type": "code",
   "execution_count": null,
   "metadata": {},
   "outputs": [],
   "source": []
  }
 ],
 "metadata": {
  "kernelspec": {
   "display_name": "Python 3",
   "language": "python",
   "name": "python3"
  },
  "language_info": {
   "codemirror_mode": {
    "name": "ipython",
    "version": 3
   },
   "file_extension": ".py",
   "mimetype": "text/x-python",
   "name": "python",
   "nbconvert_exporter": "python",
   "pygments_lexer": "ipython3",
   "version": "3.7.4"
  }
 },
 "nbformat": 4,
 "nbformat_minor": 4
}

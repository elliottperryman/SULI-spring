{
 "cells": [
  {
   "cell_type": "code",
   "execution_count": null,
   "metadata": {},
   "outputs": [],
   "source": [
    "import numpy as np\n",
    "import matplotlib.pyplot as plt"
   ]
  },
  {
   "cell_type": "code",
   "execution_count": null,
   "metadata": {},
   "outputs": [],
   "source": [
    "import plotly\n",
    "from plotly.subplots import make_subplots\n",
    "import plotly.graph_objects as go"
   ]
  },
  {
   "cell_type": "code",
   "execution_count": null,
   "metadata": {},
   "outputs": [],
   "source": [
    "def visualize_normal_mode(geometry, eigenvector, scale=10):\n",
    "    vec = eigenvector.reshape(-1, 3)\n",
    "    trace2 = go.Cone(\n",
    "        x=geometry[:, 0],\n",
    "        y=geometry[:, 1],\n",
    "        z=geometry[:, 2],\n",
    "        u=vec[:, 0] * scale,\n",
    "        v=vec[:, 1] * scale,\n",
    "        w=vec[:, 2] * scale,\n",
    "        sizemode=\"absolute\", # \"absolute\"\n",
    "        sizeref=2,\n",
    "        anchor=\"tail\"\n",
    "    )\n",
    "    return [trace2]\n",
    "\n",
    "def visualize_normal_modes(geometry, eigenvectors, scale=10, cols=3):\n",
    "#     eigenvectors = eigenvectors.round(2)\n",
    "    N3, N3 = eigenvectors.shape\n",
    "    rows = int(N3/cols)\n",
    "    if N3 % cols > 0:\n",
    "        rows += 1\n",
    "    specs = [[{'is_3d': True} for i in range(cols)]\n",
    "             for j in range(rows)]\n",
    "    fig = make_subplots(rows=rows, cols=cols, specs=specs)\n",
    "    for row in range(rows):\n",
    "        for col in range(cols):\n",
    "            i = row * cols + col\n",
    "            if i >= N3:\n",
    "                continue\n",
    "            traces = visualize_normal_mode(geometry, eigenvectors[:, i], scale)\n",
    "            fig.add_trace(traces[0], row=row + 1, col=col + 1)\n",
    "    fig.update_layout(scene_aspectmode='data')\n",
    "    return fig"
   ]
  },
  {
   "cell_type": "markdown",
   "metadata": {},
   "source": [
    "## Examine hinged triangles"
   ]
  },
  {
   "cell_type": "code",
   "execution_count": null,
   "metadata": {},
   "outputs": [],
   "source": [
    "R = np.array([\n",
    "    [-1., 0, 1],\n",
    "    [0, 1, 0],\n",
    "    [0, -1, 0],\n",
    "    [1, 0, 1],\n",
    "])"
   ]
  },
  {
   "cell_type": "code",
   "execution_count": null,
   "metadata": {},
   "outputs": [],
   "source": [
    "springs = [(0, 1), (1, 2), (2, 0), (3, 2), (3, 1)]"
   ]
  },
  {
   "cell_type": "code",
   "execution_count": null,
   "metadata": {},
   "outputs": [],
   "source": [
    "mySum = np.sum(R, 0)\n",
    "for i in range(len(R)):\n",
    "    R[i] = R[i] - mySum/len(R)"
   ]
  },
  {
   "cell_type": "code",
   "execution_count": null,
   "metadata": {},
   "outputs": [],
   "source": [
    "H = np.zeros((len(R)*3, len(R)*3))\n",
    "for i, (start, stop) in enumerate(springs):\n",
    "    proj = R[stop]-R[start]\n",
    "    proj /= np.linalg.norm(proj)\n",
    "    proj = np.abs(proj)\n",
    "    \n",
    "    H[start*3:start*3+3, start*3:start*3+3] += np.eye(3)*proj\n",
    "    H[stop*3:stop*3+3, stop*3:stop*3+3] += np.eye(3)*proj\n",
    "    \n",
    "    H[start*3:start*3+3, stop*3:stop*3+3] += -np.eye(3)*proj\n",
    "    H[stop*3:stop*3+3, start*3:start*3+3] += -np.eye(3)*proj\n",
    "    "
   ]
  },
  {
   "cell_type": "code",
   "execution_count": null,
   "metadata": {},
   "outputs": [],
   "source": [
    "l, v = np.linalg.eigh(H)\n",
    "\n",
    "v = v.T"
   ]
  },
  {
   "cell_type": "code",
   "execution_count": null,
   "metadata": {},
   "outputs": [],
   "source": [
    "l.round(3)"
   ]
  },
  {
   "cell_type": "code",
   "execution_count": null,
   "metadata": {},
   "outputs": [],
   "source": [
    "visualize_normal_modes(R, v.T, cols=4)"
   ]
  },
  {
   "cell_type": "code",
   "execution_count": null,
   "metadata": {},
   "outputs": [],
   "source": [
    "def inertiaAxes(x,y,z):\n",
    "    I = np.empty((3,3))\n",
    "    \n",
    "    I[0,0] = np.sum(y**2+z**2)\n",
    "    I[1,1] = np.sum(x**2+z**2)\n",
    "    I[2,2] = np.sum(x**2+y**2)\n",
    "    \n",
    "    I[0,1] = I[1,0] = -np.sum(y*x)\n",
    "    I[0,2] = I[2,0] = -np.sum(z*x)\n",
    "    I[1,2] = I[2,1] = -np.sum(y*z)\n",
    "    \n",
    "    return I"
   ]
  },
  {
   "cell_type": "code",
   "execution_count": null,
   "metadata": {},
   "outputs": [],
   "source": [
    "I = inertiaAxes(R[:,0], R[:,1], R[:,2])\n",
    "I_prime, X = np.linalg.eigh(I)\n",
    "D = np.empty((6,len(R)*3))"
   ]
  },
  {
   "cell_type": "code",
   "execution_count": null,
   "metadata": {},
   "outputs": [],
   "source": [
    "for i in range(len(R)):\n",
    "    for j in range(3):\n",
    "        D[3,i*3+j] = np.dot(R[i],X[1])*X[j,2]-np.dot(R[i],X[2])*X[j,1]\n",
    "        D[4,i*3+j] = np.dot(R[i],X[2])*X[j,0]-np.dot(R[i],X[0])*X[j,2]  \n",
    "        D[5,i*3+j] = np.dot(R[i],X[0])*X[j,1]-np.dot(R[i],X[1])*X[j,0]"
   ]
  },
  {
   "cell_type": "code",
   "execution_count": null,
   "metadata": {},
   "outputs": [],
   "source": [
    "for i in range(len(R)):\n",
    "    D[:3,i*3:i*3+3] = np.eye(3)"
   ]
  },
  {
   "cell_type": "code",
   "execution_count": null,
   "metadata": {},
   "outputs": [],
   "source": [
    "for i in range(len(D)):\n",
    "    D[i] /= np.linalg.norm(D[i])"
   ]
  },
  {
   "cell_type": "code",
   "execution_count": null,
   "metadata": {},
   "outputs": [],
   "source": [
    "for i in range(len(v)):\n",
    "    remainder = v[i] - np.sum((D @ v[i]).reshape(-1,1) * D, 0)\n",
    "\n",
    "    if np.linalg.norm(remainder)<.5:\n",
    "        v[i] = np.zeros(len(v[i]))\n",
    "    else:\n",
    "        remainder /= np.linalg.norm(remainder)\n",
    "        v[i] = remainder\n",
    "        D = np.append(D, remainder.reshape(1,-1), 0)"
   ]
  },
  {
   "cell_type": "code",
   "execution_count": null,
   "metadata": {},
   "outputs": [],
   "source": []
  },
  {
   "cell_type": "code",
   "execution_count": null,
   "metadata": {},
   "outputs": [],
   "source": [
    "visualize_normal_modes(R, D.T, cols=4)"
   ]
  },
  {
   "cell_type": "markdown",
   "metadata": {},
   "source": [
    "## This is 0 bc it is a 0 eigenvalue eigenvector!!!"
   ]
  },
  {
   "cell_type": "code",
   "execution_count": null,
   "metadata": {},
   "outputs": [],
   "source": [
    "D[6].round(4)"
   ]
  },
  {
   "cell_type": "code",
   "execution_count": null,
   "metadata": {},
   "outputs": [],
   "source": [
    "(H @ D[6]).round(3)"
   ]
  },
  {
   "cell_type": "code",
   "execution_count": null,
   "metadata": {},
   "outputs": [],
   "source": []
  },
  {
   "cell_type": "code",
   "execution_count": null,
   "metadata": {},
   "outputs": [],
   "source": []
  },
  {
   "cell_type": "code",
   "execution_count": null,
   "metadata": {},
   "outputs": [],
   "source": [
    "np.allclose((D.T @ D), np.eye(len(D)))"
   ]
  },
  {
   "cell_type": "code",
   "execution_count": null,
   "metadata": {},
   "outputs": [],
   "source": [
    "z = plt.imshow(H, vmin=-3, vmax=3, cmap='RdBu')\n",
    "c = plt.colorbar(z)"
   ]
  },
  {
   "cell_type": "code",
   "execution_count": null,
   "metadata": {},
   "outputs": [],
   "source": [
    "z = plt.imshow(D @ H @ D.T, vmin=-3, vmax=3, cmap='RdBu')\n",
    "c = plt.colorbar(z)"
   ]
  },
  {
   "cell_type": "code",
   "execution_count": null,
   "metadata": {},
   "outputs": [],
   "source": [
    "np.diag(D @ H @ D.T).round(3)"
   ]
  },
  {
   "cell_type": "code",
   "execution_count": null,
   "metadata": {},
   "outputs": [],
   "source": [
    "(H @ D[5]).round(3)"
   ]
  },
  {
   "cell_type": "code",
   "execution_count": null,
   "metadata": {},
   "outputs": [],
   "source": [
    "l_new, v_new = np.linalg.eigh((D.T @ H @ D))"
   ]
  },
  {
   "cell_type": "code",
   "execution_count": null,
   "metadata": {},
   "outputs": [],
   "source": [
    "l_new, v_new = np.linalg.eigh((D.T @ H @ D)[6:,6:])"
   ]
  },
  {
   "cell_type": "code",
   "execution_count": null,
   "metadata": {},
   "outputs": [],
   "source": [
    "l_new.round(3)"
   ]
  },
  {
   "cell_type": "code",
   "execution_count": null,
   "metadata": {},
   "outputs": [],
   "source": [
    "new_D = D[6:]"
   ]
  },
  {
   "cell_type": "code",
   "execution_count": null,
   "metadata": {},
   "outputs": [],
   "source": [
    "np.allclose(new_D @ new_D.T, np.eye(6))"
   ]
  },
  {
   "cell_type": "code",
   "execution_count": null,
   "metadata": {},
   "outputs": [],
   "source": [
    "v_new.shape # [new_eigen, old_eigen]"
   ]
  },
  {
   "cell_type": "code",
   "execution_count": null,
   "metadata": {},
   "outputs": [],
   "source": [
    "new_D.shape # [old_eigen, displacements (xyz)]"
   ]
  },
  {
   "cell_type": "code",
   "execution_count": null,
   "metadata": {},
   "outputs": [],
   "source": []
  },
  {
   "cell_type": "code",
   "execution_count": null,
   "metadata": {},
   "outputs": [],
   "source": [
    "visualize_normal_modes(R, np.einsum('no,od->dn', v_new, new_D), cols=4)"
   ]
  },
  {
   "cell_type": "code",
   "execution_count": null,
   "metadata": {},
   "outputs": [],
   "source": [
    "D[6:].round(2)"
   ]
  },
  {
   "cell_type": "code",
   "execution_count": null,
   "metadata": {},
   "outputs": [],
   "source": [
    "np.allclose(D[6:,6:] @ D[6:,6:].T, np.eye(len(D)-6))"
   ]
  },
  {
   "cell_type": "code",
   "execution_count": null,
   "metadata": {},
   "outputs": [],
   "source": [
    "l_new.round(4)"
   ]
  },
  {
   "cell_type": "code",
   "execution_count": null,
   "metadata": {},
   "outputs": [],
   "source": [
    "v_new[5].shape"
   ]
  },
  {
   "cell_type": "code",
   "execution_count": null,
   "metadata": {},
   "outputs": [],
   "source": []
  },
  {
   "cell_type": "code",
   "execution_count": null,
   "metadata": {},
   "outputs": [],
   "source": []
  }
 ],
 "metadata": {
  "kernelspec": {
   "display_name": "Python 3",
   "language": "python",
   "name": "python3"
  },
  "language_info": {
   "codemirror_mode": {
    "name": "ipython",
    "version": 3
   },
   "file_extension": ".py",
   "mimetype": "text/x-python",
   "name": "python",
   "nbconvert_exporter": "python",
   "pygments_lexer": "ipython3",
   "version": "3.7.4"
  }
 },
 "nbformat": 4,
 "nbformat_minor": 4
}

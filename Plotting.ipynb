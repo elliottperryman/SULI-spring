{
 "cells": [
  {
   "cell_type": "code",
   "execution_count": null,
   "metadata": {},
   "outputs": [],
   "source": [
    "import plotly\n",
    "from plotly.subplots import make_subplots\n",
    "import plotly.graph_objects as go"
   ]
  },
  {
   "cell_type": "code",
   "execution_count": null,
   "metadata": {},
   "outputs": [],
   "source": [
    "import matplotlib.pyplot as plt"
   ]
  },
  {
   "cell_type": "code",
   "execution_count": null,
   "metadata": {},
   "outputs": [],
   "source": [
    "def visualize_normal_mode(geometry, eigenvector, scale=10):\n",
    "    vec = eigenvector.reshape(-1, 3)\n",
    "    trace2 = go.Cone(\n",
    "        x=geometry[:, 0],\n",
    "        y=geometry[:, 1],\n",
    "        z=geometry[:, 2],\n",
    "        u=vec[:, 0] * scale,\n",
    "        v=vec[:, 1] * scale,\n",
    "        w=vec[:, 2] * scale,\n",
    "        sizemode=\"absolute\", # \"absolute\"\n",
    "        sizeref=2,\n",
    "        anchor=\"tail\"\n",
    "    )\n",
    "    return [trace2]"
   ]
  },
  {
   "cell_type": "code",
   "execution_count": null,
   "metadata": {},
   "outputs": [],
   "source": [
    "def visualize_normal_modes(geometry, eigenvectors, scale=10, cols=3):\n",
    "    N3, N3 = eigenvectors.shape\n",
    "    rows = int(N3/cols)\n",
    "    if N3 % cols > 0:\n",
    "        rows += 1\n",
    "    specs = [[{'is_3d': True} for i in range(cols)]\n",
    "             for j in range(rows)]\n",
    "    fig = make_subplots(rows=rows, cols=cols, specs=specs)\n",
    "    for row in range(rows):\n",
    "        for col in range(cols):\n",
    "            i = row * cols + col\n",
    "            if i >= N3:\n",
    "                continue\n",
    "            traces = visualize_normal_mode(geometry, eigenvectors[:, i], scale)\n",
    "            fig.add_trace(traces[0], row=row + 1, col=col + 1)\n",
    "    fig.update_layout(scene_aspectmode='data')\n",
    "    return fig"
   ]
  },
  {
   "cell_type": "code",
   "execution_count": null,
   "metadata": {},
   "outputs": [],
   "source": [
    "from math import ceil"
   ]
  },
  {
   "cell_type": "code",
   "execution_count": null,
   "metadata": {},
   "outputs": [],
   "source": [
    "def plot2d(R, v, scale=.5):\n",
    "    numCols = ceil(len(v)/3)\n",
    "    plt.subplots(numCols, 3, sharex=True, sharey=True, figsize=(15, 4))\n",
    "    for i in range(len(v)):\n",
    "        plt.subplot(numCols, 3, i+1)\n",
    "        if np.allclose(v[i], np.zeros(v.shape[1])): continue\n",
    "        plt.xlim((-1.5,1.5))\n",
    "        plt.ylim((-1.5,1.5))\n",
    "        for j in range(len(R)):\n",
    "            x, y, = R[j]\n",
    "            plt.arrow(x,y, v[i,j*2]*scale, v[i,j*2+1]*scale, width=scale*.1)        \n",
    "    plt.show()"
   ]
  },
  {
   "cell_type": "code",
   "execution_count": null,
   "metadata": {},
   "outputs": [],
   "source": [
    "def plot(R, v, *args):\n",
    "    if R.shape[1]==2:\n",
    "        plot2d(R, v, *args)\n",
    "    else:\n",
    "        return visualize_normal_modes(R, v.T, *args)"
   ]
  },
  {
   "cell_type": "code",
   "execution_count": null,
   "metadata": {},
   "outputs": [],
   "source": [
    "from ipywidgets import interactive\n",
    "import matplotlib.pyplot as plt\n",
    "import numpy as np"
   ]
  },
  {
   "cell_type": "code",
   "execution_count": null,
   "metadata": {},
   "outputs": [],
   "source": [
    "def sumBasis(R, D, scale=.5):\n",
    "    \n",
    "    def plotC(**c):\n",
    "\n",
    "        vSum = np.zeros(D.shape[1])\n",
    "        for key, value in c.items():\n",
    "            vSum += value*D[int(key)]\n",
    "\n",
    "        plt.figure(2)\n",
    "        for i in range(len(R)):\n",
    "            plt.arrow(R[i,0],R[i,1],vSum[i*2]*scale,vSum[i*2+1]*scale, width=scale*.1)        \n",
    "        plt.xlim(-2,2)\n",
    "        plt.ylim(-2,2)\n",
    "        \n",
    "    args = {}\n",
    "    for i in range(len(D)):\n",
    "        args[str(i)] = (-1.5, 1.5, .05)\n",
    "        \n",
    "    interactive_plot = interactive(plotC, **args)\n",
    "\n",
    "    return interactive_plot"
   ]
  }
 ],
 "metadata": {
  "kernelspec": {
   "display_name": "Python 3",
   "language": "python",
   "name": "python3"
  },
  "language_info": {
   "codemirror_mode": {
    "name": "ipython",
    "version": 3
   },
   "file_extension": ".py",
   "mimetype": "text/x-python",
   "name": "python",
   "nbconvert_exporter": "python",
   "pygments_lexer": "ipython3",
   "version": "3.7.4"
  }
 },
 "nbformat": 4,
 "nbformat_minor": 4
}

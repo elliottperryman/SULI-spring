{
 "cells": [
  {
   "cell_type": "code",
   "execution_count": 82,
   "metadata": {},
   "outputs": [],
   "source": [
    "%run Calculating.ipynb"
   ]
  },
  {
   "cell_type": "code",
   "execution_count": 83,
   "metadata": {},
   "outputs": [],
   "source": [
    "%run Plotting.ipynb"
   ]
  },
  {
   "cell_type": "code",
   "execution_count": 84,
   "metadata": {},
   "outputs": [],
   "source": [
    "R = np.array([\n",
    "    [0., 0, 0],\n",
    "    [1, 1, 1],\n",
    "])"
   ]
  },
  {
   "cell_type": "code",
   "execution_count": 85,
   "metadata": {},
   "outputs": [],
   "source": [
    "springs = [(0,1)]"
   ]
  },
  {
   "cell_type": "code",
   "execution_count": 95,
   "metadata": {
    "scrolled": true
   },
   "outputs": [
    {
     "name": "stdout",
     "output_type": "stream",
     "text": [
      "[[ 0.707  0.     0.     0.707  0.     0.   ]\n",
      " [ 0.     0.707  0.     0.     0.707  0.   ]\n",
      " [ 0.     0.     0.707  0.     0.     0.707]\n",
      " [ 0.092 -0.54   0.447 -0.092  0.54  -0.447]\n",
      " [-0.57   0.365  0.205  0.57  -0.365 -0.205]\n",
      " [-0.093 -0.447  0.54   0.093  0.447 -0.54 ]]\n",
      "0.5919351792724904\n",
      "0.9346540424191433\n",
      "1.102502744256251\n"
     ]
    }
   ],
   "source": [
    "H, l, v, D = calc(R, springs, threshold=.0001)"
   ]
  },
  {
   "cell_type": "code",
   "execution_count": 96,
   "metadata": {},
   "outputs": [
    {
     "data": {
      "text/plain": [
       "(9, 6)"
      ]
     },
     "execution_count": 96,
     "metadata": {},
     "output_type": "execute_result"
    }
   ],
   "source": [
    "D.shape"
   ]
  },
  {
   "cell_type": "code",
   "execution_count": 97,
   "metadata": {},
   "outputs": [
    {
     "data": {
      "application/vnd.plotly.v1+json": {
       "config": {
        "plotlyServerURL": "https://plot.ly"
       },
       "data": [
        {
         "anchor": "tail",
         "scene": "scene",
         "sizemode": "absolute",
         "sizeref": 2,
         "type": "cone",
         "u": [
          7.0710678118654755,
          7.0710678118654755
         ],
         "v": [
          0,
          0
         ],
         "w": [
          0,
          0
         ],
         "x": [
          -0.5,
          0.5
         ],
         "y": [
          -0.5,
          0.5
         ],
         "z": [
          -0.5,
          0.5
         ]
        },
        {
         "anchor": "tail",
         "scene": "scene2",
         "sizemode": "absolute",
         "sizeref": 2,
         "type": "cone",
         "u": [
          0,
          0
         ],
         "v": [
          7.0710678118654755,
          7.0710678118654755
         ],
         "w": [
          0,
          0
         ],
         "x": [
          -0.5,
          0.5
         ],
         "y": [
          -0.5,
          0.5
         ],
         "z": [
          -0.5,
          0.5
         ]
        },
        {
         "anchor": "tail",
         "scene": "scene3",
         "sizemode": "absolute",
         "sizeref": 2,
         "type": "cone",
         "u": [
          0,
          0
         ],
         "v": [
          0,
          0
         ],
         "w": [
          7.0710678118654755,
          7.0710678118654755
         ],
         "x": [
          -0.5,
          0.5
         ],
         "y": [
          -0.5,
          0.5
         ],
         "z": [
          -0.5,
          0.5
         ]
        },
        {
         "anchor": "tail",
         "scene": "scene4",
         "sizemode": "absolute",
         "sizeref": 2,
         "type": "cone",
         "u": [
          0.9234154841408577,
          -0.9234154841408577
         ],
         "v": [
          -5.397341225498536,
          5.397341225498536
         ],
         "w": [
          4.47392574135768,
          -4.47392574135768
         ],
         "x": [
          -0.5,
          0.5
         ],
         "y": [
          -0.5,
          0.5
         ],
         "z": [
          -0.5,
          0.5
         ]
        },
        {
         "anchor": "tail",
         "scene": "scene5",
         "sizemode": "absolute",
         "sizeref": 2,
         "type": "cone",
         "u": [
          -5.69872520455797,
          5.69872520455797
         ],
         "v": [
          3.651483716701107,
          -3.651483716701107
         ],
         "w": [
          2.047241487856864,
          -2.047241487856864
         ],
         "x": [
          -0.5,
          0.5
         ],
         "y": [
          -0.5,
          0.5
         ],
         "z": [
          -0.5,
          0.5
         ]
        },
        {
         "anchor": "tail",
         "scene": "scene6",
         "sizemode": "absolute",
         "sizeref": 2,
         "type": "cone",
         "u": [
          -0.9262096826685894,
          0.9262096826685894
         ],
         "v": [
          -4.4721359549995805,
          4.4721359549995805
         ],
         "w": [
          5.398345637668168,
          -5.398345637668168
         ],
         "x": [
          -0.5,
          0.5
         ],
         "y": [
          -0.5,
          0.5
         ],
         "z": [
          -0.5,
          0.5
         ]
        },
        {
         "anchor": "tail",
         "scene": "scene7",
         "sizemode": "absolute",
         "sizeref": 2,
         "type": "cone",
         "u": [
          -3.7781724002521733,
          3.7781724002521733
         ],
         "v": [
          -5.172635651285605,
          5.172635651285605
         ],
         "w": [
          -2.994871238137271,
          2.994871238137271
         ],
         "x": [
          -0.5,
          0.5
         ],
         "y": [
          -0.5,
          0.5
         ],
         "z": [
          -0.5,
          0.5
         ]
        },
        {
         "anchor": "tail",
         "scene": "scene8",
         "sizemode": "absolute",
         "sizeref": 2,
         "type": "cone",
         "u": [
          0.31889017989367935,
          -0.31889017989367935
         ],
         "v": [
          -5.934448883323288,
          5.934448883323288
         ],
         "w": [
          3.8315304389225933,
          -3.8315304389225933
         ],
         "x": [
          -0.5,
          0.5
         ],
         "y": [
          -0.5,
          0.5
         ],
         "z": [
          -0.5,
          0.5
         ]
        },
        {
         "anchor": "tail",
         "scene": "scene9",
         "sizemode": "absolute",
         "sizeref": 2,
         "type": "cone",
         "u": [
          0.00020561177033067153,
          -0.00020561177033067153
         ],
         "v": [
          -6.164880126048294,
          6.164880126048294
         ],
         "w": [
          3.4632720062360933,
          -3.4632720062360933
         ],
         "x": [
          -0.5,
          0.5
         ],
         "y": [
          -0.5,
          0.5
         ],
         "z": [
          -0.5,
          0.5
         ]
        }
       ],
       "layout": {
        "scene": {
         "aspectmode": "data",
         "domain": {
          "x": [
           0,
           0.2125
          ],
          "y": [
           0.7333333333333333,
           1
          ]
         }
        },
        "scene10": {
         "domain": {
          "x": [
           0.2625,
           0.475
          ],
          "y": [
           0,
           0.26666666666666666
          ]
         }
        },
        "scene11": {
         "domain": {
          "x": [
           0.525,
           0.7375
          ],
          "y": [
           0,
           0.26666666666666666
          ]
         }
        },
        "scene12": {
         "domain": {
          "x": [
           0.7875,
           1
          ],
          "y": [
           0,
           0.26666666666666666
          ]
         }
        },
        "scene2": {
         "domain": {
          "x": [
           0.2625,
           0.475
          ],
          "y": [
           0.7333333333333333,
           1
          ]
         }
        },
        "scene3": {
         "domain": {
          "x": [
           0.525,
           0.7375
          ],
          "y": [
           0.7333333333333333,
           1
          ]
         }
        },
        "scene4": {
         "domain": {
          "x": [
           0.7875,
           1
          ],
          "y": [
           0.7333333333333333,
           1
          ]
         }
        },
        "scene5": {
         "domain": {
          "x": [
           0,
           0.2125
          ],
          "y": [
           0.36666666666666664,
           0.6333333333333333
          ]
         }
        },
        "scene6": {
         "domain": {
          "x": [
           0.2625,
           0.475
          ],
          "y": [
           0.36666666666666664,
           0.6333333333333333
          ]
         }
        },
        "scene7": {
         "domain": {
          "x": [
           0.525,
           0.7375
          ],
          "y": [
           0.36666666666666664,
           0.6333333333333333
          ]
         }
        },
        "scene8": {
         "domain": {
          "x": [
           0.7875,
           1
          ],
          "y": [
           0.36666666666666664,
           0.6333333333333333
          ]
         }
        },
        "scene9": {
         "domain": {
          "x": [
           0,
           0.2125
          ],
          "y": [
           0,
           0.26666666666666666
          ]
         }
        },
        "template": {
         "data": {
          "bar": [
           {
            "error_x": {
             "color": "#2a3f5f"
            },
            "error_y": {
             "color": "#2a3f5f"
            },
            "marker": {
             "line": {
              "color": "#E5ECF6",
              "width": 0.5
             }
            },
            "type": "bar"
           }
          ],
          "barpolar": [
           {
            "marker": {
             "line": {
              "color": "#E5ECF6",
              "width": 0.5
             }
            },
            "type": "barpolar"
           }
          ],
          "carpet": [
           {
            "aaxis": {
             "endlinecolor": "#2a3f5f",
             "gridcolor": "white",
             "linecolor": "white",
             "minorgridcolor": "white",
             "startlinecolor": "#2a3f5f"
            },
            "baxis": {
             "endlinecolor": "#2a3f5f",
             "gridcolor": "white",
             "linecolor": "white",
             "minorgridcolor": "white",
             "startlinecolor": "#2a3f5f"
            },
            "type": "carpet"
           }
          ],
          "choropleth": [
           {
            "colorbar": {
             "outlinewidth": 0,
             "ticks": ""
            },
            "type": "choropleth"
           }
          ],
          "contour": [
           {
            "colorbar": {
             "outlinewidth": 0,
             "ticks": ""
            },
            "colorscale": [
             [
              0,
              "#0d0887"
             ],
             [
              0.1111111111111111,
              "#46039f"
             ],
             [
              0.2222222222222222,
              "#7201a8"
             ],
             [
              0.3333333333333333,
              "#9c179e"
             ],
             [
              0.4444444444444444,
              "#bd3786"
             ],
             [
              0.5555555555555556,
              "#d8576b"
             ],
             [
              0.6666666666666666,
              "#ed7953"
             ],
             [
              0.7777777777777778,
              "#fb9f3a"
             ],
             [
              0.8888888888888888,
              "#fdca26"
             ],
             [
              1,
              "#f0f921"
             ]
            ],
            "type": "contour"
           }
          ],
          "contourcarpet": [
           {
            "colorbar": {
             "outlinewidth": 0,
             "ticks": ""
            },
            "type": "contourcarpet"
           }
          ],
          "heatmap": [
           {
            "colorbar": {
             "outlinewidth": 0,
             "ticks": ""
            },
            "colorscale": [
             [
              0,
              "#0d0887"
             ],
             [
              0.1111111111111111,
              "#46039f"
             ],
             [
              0.2222222222222222,
              "#7201a8"
             ],
             [
              0.3333333333333333,
              "#9c179e"
             ],
             [
              0.4444444444444444,
              "#bd3786"
             ],
             [
              0.5555555555555556,
              "#d8576b"
             ],
             [
              0.6666666666666666,
              "#ed7953"
             ],
             [
              0.7777777777777778,
              "#fb9f3a"
             ],
             [
              0.8888888888888888,
              "#fdca26"
             ],
             [
              1,
              "#f0f921"
             ]
            ],
            "type": "heatmap"
           }
          ],
          "heatmapgl": [
           {
            "colorbar": {
             "outlinewidth": 0,
             "ticks": ""
            },
            "colorscale": [
             [
              0,
              "#0d0887"
             ],
             [
              0.1111111111111111,
              "#46039f"
             ],
             [
              0.2222222222222222,
              "#7201a8"
             ],
             [
              0.3333333333333333,
              "#9c179e"
             ],
             [
              0.4444444444444444,
              "#bd3786"
             ],
             [
              0.5555555555555556,
              "#d8576b"
             ],
             [
              0.6666666666666666,
              "#ed7953"
             ],
             [
              0.7777777777777778,
              "#fb9f3a"
             ],
             [
              0.8888888888888888,
              "#fdca26"
             ],
             [
              1,
              "#f0f921"
             ]
            ],
            "type": "heatmapgl"
           }
          ],
          "histogram": [
           {
            "marker": {
             "colorbar": {
              "outlinewidth": 0,
              "ticks": ""
             }
            },
            "type": "histogram"
           }
          ],
          "histogram2d": [
           {
            "colorbar": {
             "outlinewidth": 0,
             "ticks": ""
            },
            "colorscale": [
             [
              0,
              "#0d0887"
             ],
             [
              0.1111111111111111,
              "#46039f"
             ],
             [
              0.2222222222222222,
              "#7201a8"
             ],
             [
              0.3333333333333333,
              "#9c179e"
             ],
             [
              0.4444444444444444,
              "#bd3786"
             ],
             [
              0.5555555555555556,
              "#d8576b"
             ],
             [
              0.6666666666666666,
              "#ed7953"
             ],
             [
              0.7777777777777778,
              "#fb9f3a"
             ],
             [
              0.8888888888888888,
              "#fdca26"
             ],
             [
              1,
              "#f0f921"
             ]
            ],
            "type": "histogram2d"
           }
          ],
          "histogram2dcontour": [
           {
            "colorbar": {
             "outlinewidth": 0,
             "ticks": ""
            },
            "colorscale": [
             [
              0,
              "#0d0887"
             ],
             [
              0.1111111111111111,
              "#46039f"
             ],
             [
              0.2222222222222222,
              "#7201a8"
             ],
             [
              0.3333333333333333,
              "#9c179e"
             ],
             [
              0.4444444444444444,
              "#bd3786"
             ],
             [
              0.5555555555555556,
              "#d8576b"
             ],
             [
              0.6666666666666666,
              "#ed7953"
             ],
             [
              0.7777777777777778,
              "#fb9f3a"
             ],
             [
              0.8888888888888888,
              "#fdca26"
             ],
             [
              1,
              "#f0f921"
             ]
            ],
            "type": "histogram2dcontour"
           }
          ],
          "mesh3d": [
           {
            "colorbar": {
             "outlinewidth": 0,
             "ticks": ""
            },
            "type": "mesh3d"
           }
          ],
          "parcoords": [
           {
            "line": {
             "colorbar": {
              "outlinewidth": 0,
              "ticks": ""
             }
            },
            "type": "parcoords"
           }
          ],
          "pie": [
           {
            "automargin": true,
            "type": "pie"
           }
          ],
          "scatter": [
           {
            "marker": {
             "colorbar": {
              "outlinewidth": 0,
              "ticks": ""
             }
            },
            "type": "scatter"
           }
          ],
          "scatter3d": [
           {
            "line": {
             "colorbar": {
              "outlinewidth": 0,
              "ticks": ""
             }
            },
            "marker": {
             "colorbar": {
              "outlinewidth": 0,
              "ticks": ""
             }
            },
            "type": "scatter3d"
           }
          ],
          "scattercarpet": [
           {
            "marker": {
             "colorbar": {
              "outlinewidth": 0,
              "ticks": ""
             }
            },
            "type": "scattercarpet"
           }
          ],
          "scattergeo": [
           {
            "marker": {
             "colorbar": {
              "outlinewidth": 0,
              "ticks": ""
             }
            },
            "type": "scattergeo"
           }
          ],
          "scattergl": [
           {
            "marker": {
             "colorbar": {
              "outlinewidth": 0,
              "ticks": ""
             }
            },
            "type": "scattergl"
           }
          ],
          "scattermapbox": [
           {
            "marker": {
             "colorbar": {
              "outlinewidth": 0,
              "ticks": ""
             }
            },
            "type": "scattermapbox"
           }
          ],
          "scatterpolar": [
           {
            "marker": {
             "colorbar": {
              "outlinewidth": 0,
              "ticks": ""
             }
            },
            "type": "scatterpolar"
           }
          ],
          "scatterpolargl": [
           {
            "marker": {
             "colorbar": {
              "outlinewidth": 0,
              "ticks": ""
             }
            },
            "type": "scatterpolargl"
           }
          ],
          "scatterternary": [
           {
            "marker": {
             "colorbar": {
              "outlinewidth": 0,
              "ticks": ""
             }
            },
            "type": "scatterternary"
           }
          ],
          "surface": [
           {
            "colorbar": {
             "outlinewidth": 0,
             "ticks": ""
            },
            "colorscale": [
             [
              0,
              "#0d0887"
             ],
             [
              0.1111111111111111,
              "#46039f"
             ],
             [
              0.2222222222222222,
              "#7201a8"
             ],
             [
              0.3333333333333333,
              "#9c179e"
             ],
             [
              0.4444444444444444,
              "#bd3786"
             ],
             [
              0.5555555555555556,
              "#d8576b"
             ],
             [
              0.6666666666666666,
              "#ed7953"
             ],
             [
              0.7777777777777778,
              "#fb9f3a"
             ],
             [
              0.8888888888888888,
              "#fdca26"
             ],
             [
              1,
              "#f0f921"
             ]
            ],
            "type": "surface"
           }
          ],
          "table": [
           {
            "cells": {
             "fill": {
              "color": "#EBF0F8"
             },
             "line": {
              "color": "white"
             }
            },
            "header": {
             "fill": {
              "color": "#C8D4E3"
             },
             "line": {
              "color": "white"
             }
            },
            "type": "table"
           }
          ]
         },
         "layout": {
          "annotationdefaults": {
           "arrowcolor": "#2a3f5f",
           "arrowhead": 0,
           "arrowwidth": 1
          },
          "coloraxis": {
           "colorbar": {
            "outlinewidth": 0,
            "ticks": ""
           }
          },
          "colorscale": {
           "diverging": [
            [
             0,
             "#8e0152"
            ],
            [
             0.1,
             "#c51b7d"
            ],
            [
             0.2,
             "#de77ae"
            ],
            [
             0.3,
             "#f1b6da"
            ],
            [
             0.4,
             "#fde0ef"
            ],
            [
             0.5,
             "#f7f7f7"
            ],
            [
             0.6,
             "#e6f5d0"
            ],
            [
             0.7,
             "#b8e186"
            ],
            [
             0.8,
             "#7fbc41"
            ],
            [
             0.9,
             "#4d9221"
            ],
            [
             1,
             "#276419"
            ]
           ],
           "sequential": [
            [
             0,
             "#0d0887"
            ],
            [
             0.1111111111111111,
             "#46039f"
            ],
            [
             0.2222222222222222,
             "#7201a8"
            ],
            [
             0.3333333333333333,
             "#9c179e"
            ],
            [
             0.4444444444444444,
             "#bd3786"
            ],
            [
             0.5555555555555556,
             "#d8576b"
            ],
            [
             0.6666666666666666,
             "#ed7953"
            ],
            [
             0.7777777777777778,
             "#fb9f3a"
            ],
            [
             0.8888888888888888,
             "#fdca26"
            ],
            [
             1,
             "#f0f921"
            ]
           ],
           "sequentialminus": [
            [
             0,
             "#0d0887"
            ],
            [
             0.1111111111111111,
             "#46039f"
            ],
            [
             0.2222222222222222,
             "#7201a8"
            ],
            [
             0.3333333333333333,
             "#9c179e"
            ],
            [
             0.4444444444444444,
             "#bd3786"
            ],
            [
             0.5555555555555556,
             "#d8576b"
            ],
            [
             0.6666666666666666,
             "#ed7953"
            ],
            [
             0.7777777777777778,
             "#fb9f3a"
            ],
            [
             0.8888888888888888,
             "#fdca26"
            ],
            [
             1,
             "#f0f921"
            ]
           ]
          },
          "colorway": [
           "#636efa",
           "#EF553B",
           "#00cc96",
           "#ab63fa",
           "#FFA15A",
           "#19d3f3",
           "#FF6692",
           "#B6E880",
           "#FF97FF",
           "#FECB52"
          ],
          "font": {
           "color": "#2a3f5f"
          },
          "geo": {
           "bgcolor": "white",
           "lakecolor": "white",
           "landcolor": "#E5ECF6",
           "showlakes": true,
           "showland": true,
           "subunitcolor": "white"
          },
          "hoverlabel": {
           "align": "left"
          },
          "hovermode": "closest",
          "mapbox": {
           "style": "light"
          },
          "paper_bgcolor": "white",
          "plot_bgcolor": "#E5ECF6",
          "polar": {
           "angularaxis": {
            "gridcolor": "white",
            "linecolor": "white",
            "ticks": ""
           },
           "bgcolor": "#E5ECF6",
           "radialaxis": {
            "gridcolor": "white",
            "linecolor": "white",
            "ticks": ""
           }
          },
          "scene": {
           "xaxis": {
            "backgroundcolor": "#E5ECF6",
            "gridcolor": "white",
            "gridwidth": 2,
            "linecolor": "white",
            "showbackground": true,
            "ticks": "",
            "zerolinecolor": "white"
           },
           "yaxis": {
            "backgroundcolor": "#E5ECF6",
            "gridcolor": "white",
            "gridwidth": 2,
            "linecolor": "white",
            "showbackground": true,
            "ticks": "",
            "zerolinecolor": "white"
           },
           "zaxis": {
            "backgroundcolor": "#E5ECF6",
            "gridcolor": "white",
            "gridwidth": 2,
            "linecolor": "white",
            "showbackground": true,
            "ticks": "",
            "zerolinecolor": "white"
           }
          },
          "shapedefaults": {
           "line": {
            "color": "#2a3f5f"
           }
          },
          "ternary": {
           "aaxis": {
            "gridcolor": "white",
            "linecolor": "white",
            "ticks": ""
           },
           "baxis": {
            "gridcolor": "white",
            "linecolor": "white",
            "ticks": ""
           },
           "bgcolor": "#E5ECF6",
           "caxis": {
            "gridcolor": "white",
            "linecolor": "white",
            "ticks": ""
           }
          },
          "title": {
           "x": 0.05
          },
          "xaxis": {
           "automargin": true,
           "gridcolor": "white",
           "linecolor": "white",
           "ticks": "",
           "title": {
            "standoff": 15
           },
           "zerolinecolor": "white",
           "zerolinewidth": 2
          },
          "yaxis": {
           "automargin": true,
           "gridcolor": "white",
           "linecolor": "white",
           "ticks": "",
           "title": {
            "standoff": 15
           },
           "zerolinecolor": "white",
           "zerolinewidth": 2
          }
         }
        }
       }
      },
      "text/html": [
       "<div>\n",
       "        \n",
       "        \n",
       "            <div id=\"1d9974db-7895-413b-a5c6-d1ff10a2a851\" class=\"plotly-graph-div\" style=\"height:525px; width:100%;\"></div>\n",
       "            <script type=\"text/javascript\">\n",
       "                require([\"plotly\"], function(Plotly) {\n",
       "                    window.PLOTLYENV=window.PLOTLYENV || {};\n",
       "                    \n",
       "                if (document.getElementById(\"1d9974db-7895-413b-a5c6-d1ff10a2a851\")) {\n",
       "                    Plotly.newPlot(\n",
       "                        '1d9974db-7895-413b-a5c6-d1ff10a2a851',\n",
       "                        [{\"anchor\": \"tail\", \"scene\": \"scene\", \"sizemode\": \"absolute\", \"sizeref\": 2, \"type\": \"cone\", \"u\": [7.0710678118654755, 7.0710678118654755], \"v\": [0.0, 0.0], \"w\": [0.0, 0.0], \"x\": [-0.5, 0.5], \"y\": [-0.5, 0.5], \"z\": [-0.5, 0.5]}, {\"anchor\": \"tail\", \"scene\": \"scene2\", \"sizemode\": \"absolute\", \"sizeref\": 2, \"type\": \"cone\", \"u\": [0.0, 0.0], \"v\": [7.0710678118654755, 7.0710678118654755], \"w\": [0.0, 0.0], \"x\": [-0.5, 0.5], \"y\": [-0.5, 0.5], \"z\": [-0.5, 0.5]}, {\"anchor\": \"tail\", \"scene\": \"scene3\", \"sizemode\": \"absolute\", \"sizeref\": 2, \"type\": \"cone\", \"u\": [0.0, 0.0], \"v\": [0.0, 0.0], \"w\": [7.0710678118654755, 7.0710678118654755], \"x\": [-0.5, 0.5], \"y\": [-0.5, 0.5], \"z\": [-0.5, 0.5]}, {\"anchor\": \"tail\", \"scene\": \"scene4\", \"sizemode\": \"absolute\", \"sizeref\": 2, \"type\": \"cone\", \"u\": [0.9234154841408577, -0.9234154841408577], \"v\": [-5.397341225498536, 5.397341225498536], \"w\": [4.47392574135768, -4.47392574135768], \"x\": [-0.5, 0.5], \"y\": [-0.5, 0.5], \"z\": [-0.5, 0.5]}, {\"anchor\": \"tail\", \"scene\": \"scene5\", \"sizemode\": \"absolute\", \"sizeref\": 2, \"type\": \"cone\", \"u\": [-5.69872520455797, 5.69872520455797], \"v\": [3.651483716701107, -3.651483716701107], \"w\": [2.047241487856864, -2.047241487856864], \"x\": [-0.5, 0.5], \"y\": [-0.5, 0.5], \"z\": [-0.5, 0.5]}, {\"anchor\": \"tail\", \"scene\": \"scene6\", \"sizemode\": \"absolute\", \"sizeref\": 2, \"type\": \"cone\", \"u\": [-0.9262096826685894, 0.9262096826685894], \"v\": [-4.4721359549995805, 4.4721359549995805], \"w\": [5.398345637668168, -5.398345637668168], \"x\": [-0.5, 0.5], \"y\": [-0.5, 0.5], \"z\": [-0.5, 0.5]}, {\"anchor\": \"tail\", \"scene\": \"scene7\", \"sizemode\": \"absolute\", \"sizeref\": 2, \"type\": \"cone\", \"u\": [-3.7781724002521733, 3.7781724002521733], \"v\": [-5.172635651285605, 5.172635651285605], \"w\": [-2.994871238137271, 2.994871238137271], \"x\": [-0.5, 0.5], \"y\": [-0.5, 0.5], \"z\": [-0.5, 0.5]}, {\"anchor\": \"tail\", \"scene\": \"scene8\", \"sizemode\": \"absolute\", \"sizeref\": 2, \"type\": \"cone\", \"u\": [0.31889017989367935, -0.31889017989367935], \"v\": [-5.934448883323288, 5.934448883323288], \"w\": [3.8315304389225933, -3.8315304389225933], \"x\": [-0.5, 0.5], \"y\": [-0.5, 0.5], \"z\": [-0.5, 0.5]}, {\"anchor\": \"tail\", \"scene\": \"scene9\", \"sizemode\": \"absolute\", \"sizeref\": 2, \"type\": \"cone\", \"u\": [0.00020561177033067153, -0.00020561177033067153], \"v\": [-6.164880126048294, 6.164880126048294], \"w\": [3.4632720062360933, -3.4632720062360933], \"x\": [-0.5, 0.5], \"y\": [-0.5, 0.5], \"z\": [-0.5, 0.5]}],\n",
       "                        {\"scene\": {\"aspectmode\": \"data\", \"domain\": {\"x\": [0.0, 0.2125], \"y\": [0.7333333333333333, 1.0]}}, \"scene10\": {\"domain\": {\"x\": [0.2625, 0.475], \"y\": [0.0, 0.26666666666666666]}}, \"scene11\": {\"domain\": {\"x\": [0.525, 0.7375], \"y\": [0.0, 0.26666666666666666]}}, \"scene12\": {\"domain\": {\"x\": [0.7875, 1.0], \"y\": [0.0, 0.26666666666666666]}}, \"scene2\": {\"domain\": {\"x\": [0.2625, 0.475], \"y\": [0.7333333333333333, 1.0]}}, \"scene3\": {\"domain\": {\"x\": [0.525, 0.7375], \"y\": [0.7333333333333333, 1.0]}}, \"scene4\": {\"domain\": {\"x\": [0.7875, 1.0], \"y\": [0.7333333333333333, 1.0]}}, \"scene5\": {\"domain\": {\"x\": [0.0, 0.2125], \"y\": [0.36666666666666664, 0.6333333333333333]}}, \"scene6\": {\"domain\": {\"x\": [0.2625, 0.475], \"y\": [0.36666666666666664, 0.6333333333333333]}}, \"scene7\": {\"domain\": {\"x\": [0.525, 0.7375], \"y\": [0.36666666666666664, 0.6333333333333333]}}, \"scene8\": {\"domain\": {\"x\": [0.7875, 1.0], \"y\": [0.36666666666666664, 0.6333333333333333]}}, \"scene9\": {\"domain\": {\"x\": [0.0, 0.2125], \"y\": [0.0, 0.26666666666666666]}}, \"template\": {\"data\": {\"bar\": [{\"error_x\": {\"color\": \"#2a3f5f\"}, \"error_y\": {\"color\": \"#2a3f5f\"}, \"marker\": {\"line\": {\"color\": \"#E5ECF6\", \"width\": 0.5}}, \"type\": \"bar\"}], \"barpolar\": [{\"marker\": {\"line\": {\"color\": \"#E5ECF6\", \"width\": 0.5}}, \"type\": \"barpolar\"}], \"carpet\": [{\"aaxis\": {\"endlinecolor\": \"#2a3f5f\", \"gridcolor\": \"white\", \"linecolor\": \"white\", \"minorgridcolor\": \"white\", \"startlinecolor\": \"#2a3f5f\"}, \"baxis\": {\"endlinecolor\": \"#2a3f5f\", \"gridcolor\": \"white\", \"linecolor\": \"white\", \"minorgridcolor\": \"white\", \"startlinecolor\": \"#2a3f5f\"}, \"type\": \"carpet\"}], \"choropleth\": [{\"colorbar\": {\"outlinewidth\": 0, \"ticks\": \"\"}, \"type\": \"choropleth\"}], \"contour\": [{\"colorbar\": {\"outlinewidth\": 0, \"ticks\": \"\"}, \"colorscale\": [[0.0, \"#0d0887\"], [0.1111111111111111, \"#46039f\"], [0.2222222222222222, \"#7201a8\"], [0.3333333333333333, \"#9c179e\"], [0.4444444444444444, \"#bd3786\"], [0.5555555555555556, \"#d8576b\"], [0.6666666666666666, \"#ed7953\"], [0.7777777777777778, \"#fb9f3a\"], [0.8888888888888888, \"#fdca26\"], [1.0, \"#f0f921\"]], \"type\": \"contour\"}], \"contourcarpet\": [{\"colorbar\": {\"outlinewidth\": 0, \"ticks\": \"\"}, \"type\": \"contourcarpet\"}], \"heatmap\": [{\"colorbar\": {\"outlinewidth\": 0, \"ticks\": \"\"}, \"colorscale\": [[0.0, \"#0d0887\"], [0.1111111111111111, \"#46039f\"], [0.2222222222222222, \"#7201a8\"], [0.3333333333333333, \"#9c179e\"], [0.4444444444444444, \"#bd3786\"], [0.5555555555555556, \"#d8576b\"], [0.6666666666666666, \"#ed7953\"], [0.7777777777777778, \"#fb9f3a\"], [0.8888888888888888, \"#fdca26\"], [1.0, \"#f0f921\"]], \"type\": \"heatmap\"}], \"heatmapgl\": [{\"colorbar\": {\"outlinewidth\": 0, \"ticks\": \"\"}, \"colorscale\": [[0.0, \"#0d0887\"], [0.1111111111111111, \"#46039f\"], [0.2222222222222222, \"#7201a8\"], [0.3333333333333333, \"#9c179e\"], [0.4444444444444444, \"#bd3786\"], [0.5555555555555556, \"#d8576b\"], [0.6666666666666666, \"#ed7953\"], [0.7777777777777778, \"#fb9f3a\"], [0.8888888888888888, \"#fdca26\"], [1.0, \"#f0f921\"]], \"type\": \"heatmapgl\"}], \"histogram\": [{\"marker\": {\"colorbar\": {\"outlinewidth\": 0, \"ticks\": \"\"}}, \"type\": \"histogram\"}], \"histogram2d\": [{\"colorbar\": {\"outlinewidth\": 0, \"ticks\": \"\"}, \"colorscale\": [[0.0, \"#0d0887\"], [0.1111111111111111, \"#46039f\"], [0.2222222222222222, \"#7201a8\"], [0.3333333333333333, \"#9c179e\"], [0.4444444444444444, \"#bd3786\"], [0.5555555555555556, \"#d8576b\"], [0.6666666666666666, \"#ed7953\"], [0.7777777777777778, \"#fb9f3a\"], [0.8888888888888888, \"#fdca26\"], [1.0, \"#f0f921\"]], \"type\": \"histogram2d\"}], \"histogram2dcontour\": [{\"colorbar\": {\"outlinewidth\": 0, \"ticks\": \"\"}, \"colorscale\": [[0.0, \"#0d0887\"], [0.1111111111111111, \"#46039f\"], [0.2222222222222222, \"#7201a8\"], [0.3333333333333333, \"#9c179e\"], [0.4444444444444444, \"#bd3786\"], [0.5555555555555556, \"#d8576b\"], [0.6666666666666666, \"#ed7953\"], [0.7777777777777778, \"#fb9f3a\"], [0.8888888888888888, \"#fdca26\"], [1.0, \"#f0f921\"]], \"type\": \"histogram2dcontour\"}], \"mesh3d\": [{\"colorbar\": {\"outlinewidth\": 0, \"ticks\": \"\"}, \"type\": \"mesh3d\"}], \"parcoords\": [{\"line\": {\"colorbar\": {\"outlinewidth\": 0, \"ticks\": \"\"}}, \"type\": \"parcoords\"}], \"pie\": [{\"automargin\": true, \"type\": \"pie\"}], \"scatter\": [{\"marker\": {\"colorbar\": {\"outlinewidth\": 0, \"ticks\": \"\"}}, \"type\": \"scatter\"}], \"scatter3d\": [{\"line\": {\"colorbar\": {\"outlinewidth\": 0, \"ticks\": \"\"}}, \"marker\": {\"colorbar\": {\"outlinewidth\": 0, \"ticks\": \"\"}}, \"type\": \"scatter3d\"}], \"scattercarpet\": [{\"marker\": {\"colorbar\": {\"outlinewidth\": 0, \"ticks\": \"\"}}, \"type\": \"scattercarpet\"}], \"scattergeo\": [{\"marker\": {\"colorbar\": {\"outlinewidth\": 0, \"ticks\": \"\"}}, \"type\": \"scattergeo\"}], \"scattergl\": [{\"marker\": {\"colorbar\": {\"outlinewidth\": 0, \"ticks\": \"\"}}, \"type\": \"scattergl\"}], \"scattermapbox\": [{\"marker\": {\"colorbar\": {\"outlinewidth\": 0, \"ticks\": \"\"}}, \"type\": \"scattermapbox\"}], \"scatterpolar\": [{\"marker\": {\"colorbar\": {\"outlinewidth\": 0, \"ticks\": \"\"}}, \"type\": \"scatterpolar\"}], \"scatterpolargl\": [{\"marker\": {\"colorbar\": {\"outlinewidth\": 0, \"ticks\": \"\"}}, \"type\": \"scatterpolargl\"}], \"scatterternary\": [{\"marker\": {\"colorbar\": {\"outlinewidth\": 0, \"ticks\": \"\"}}, \"type\": \"scatterternary\"}], \"surface\": [{\"colorbar\": {\"outlinewidth\": 0, \"ticks\": \"\"}, \"colorscale\": [[0.0, \"#0d0887\"], [0.1111111111111111, \"#46039f\"], [0.2222222222222222, \"#7201a8\"], [0.3333333333333333, \"#9c179e\"], [0.4444444444444444, \"#bd3786\"], [0.5555555555555556, \"#d8576b\"], [0.6666666666666666, \"#ed7953\"], [0.7777777777777778, \"#fb9f3a\"], [0.8888888888888888, \"#fdca26\"], [1.0, \"#f0f921\"]], \"type\": \"surface\"}], \"table\": [{\"cells\": {\"fill\": {\"color\": \"#EBF0F8\"}, \"line\": {\"color\": \"white\"}}, \"header\": {\"fill\": {\"color\": \"#C8D4E3\"}, \"line\": {\"color\": \"white\"}}, \"type\": \"table\"}]}, \"layout\": {\"annotationdefaults\": {\"arrowcolor\": \"#2a3f5f\", \"arrowhead\": 0, \"arrowwidth\": 1}, \"coloraxis\": {\"colorbar\": {\"outlinewidth\": 0, \"ticks\": \"\"}}, \"colorscale\": {\"diverging\": [[0, \"#8e0152\"], [0.1, \"#c51b7d\"], [0.2, \"#de77ae\"], [0.3, \"#f1b6da\"], [0.4, \"#fde0ef\"], [0.5, \"#f7f7f7\"], [0.6, \"#e6f5d0\"], [0.7, \"#b8e186\"], [0.8, \"#7fbc41\"], [0.9, \"#4d9221\"], [1, \"#276419\"]], \"sequential\": [[0.0, \"#0d0887\"], [0.1111111111111111, \"#46039f\"], [0.2222222222222222, \"#7201a8\"], [0.3333333333333333, \"#9c179e\"], [0.4444444444444444, \"#bd3786\"], [0.5555555555555556, \"#d8576b\"], [0.6666666666666666, \"#ed7953\"], [0.7777777777777778, \"#fb9f3a\"], [0.8888888888888888, \"#fdca26\"], [1.0, \"#f0f921\"]], \"sequentialminus\": [[0.0, \"#0d0887\"], [0.1111111111111111, \"#46039f\"], [0.2222222222222222, \"#7201a8\"], [0.3333333333333333, \"#9c179e\"], [0.4444444444444444, \"#bd3786\"], [0.5555555555555556, \"#d8576b\"], [0.6666666666666666, \"#ed7953\"], [0.7777777777777778, \"#fb9f3a\"], [0.8888888888888888, \"#fdca26\"], [1.0, \"#f0f921\"]]}, \"colorway\": [\"#636efa\", \"#EF553B\", \"#00cc96\", \"#ab63fa\", \"#FFA15A\", \"#19d3f3\", \"#FF6692\", \"#B6E880\", \"#FF97FF\", \"#FECB52\"], \"font\": {\"color\": \"#2a3f5f\"}, \"geo\": {\"bgcolor\": \"white\", \"lakecolor\": \"white\", \"landcolor\": \"#E5ECF6\", \"showlakes\": true, \"showland\": true, \"subunitcolor\": \"white\"}, \"hoverlabel\": {\"align\": \"left\"}, \"hovermode\": \"closest\", \"mapbox\": {\"style\": \"light\"}, \"paper_bgcolor\": \"white\", \"plot_bgcolor\": \"#E5ECF6\", \"polar\": {\"angularaxis\": {\"gridcolor\": \"white\", \"linecolor\": \"white\", \"ticks\": \"\"}, \"bgcolor\": \"#E5ECF6\", \"radialaxis\": {\"gridcolor\": \"white\", \"linecolor\": \"white\", \"ticks\": \"\"}}, \"scene\": {\"xaxis\": {\"backgroundcolor\": \"#E5ECF6\", \"gridcolor\": \"white\", \"gridwidth\": 2, \"linecolor\": \"white\", \"showbackground\": true, \"ticks\": \"\", \"zerolinecolor\": \"white\"}, \"yaxis\": {\"backgroundcolor\": \"#E5ECF6\", \"gridcolor\": \"white\", \"gridwidth\": 2, \"linecolor\": \"white\", \"showbackground\": true, \"ticks\": \"\", \"zerolinecolor\": \"white\"}, \"zaxis\": {\"backgroundcolor\": \"#E5ECF6\", \"gridcolor\": \"white\", \"gridwidth\": 2, \"linecolor\": \"white\", \"showbackground\": true, \"ticks\": \"\", \"zerolinecolor\": \"white\"}}, \"shapedefaults\": {\"line\": {\"color\": \"#2a3f5f\"}}, \"ternary\": {\"aaxis\": {\"gridcolor\": \"white\", \"linecolor\": \"white\", \"ticks\": \"\"}, \"baxis\": {\"gridcolor\": \"white\", \"linecolor\": \"white\", \"ticks\": \"\"}, \"bgcolor\": \"#E5ECF6\", \"caxis\": {\"gridcolor\": \"white\", \"linecolor\": \"white\", \"ticks\": \"\"}}, \"title\": {\"x\": 0.05}, \"xaxis\": {\"automargin\": true, \"gridcolor\": \"white\", \"linecolor\": \"white\", \"ticks\": \"\", \"title\": {\"standoff\": 15}, \"zerolinecolor\": \"white\", \"zerolinewidth\": 2}, \"yaxis\": {\"automargin\": true, \"gridcolor\": \"white\", \"linecolor\": \"white\", \"ticks\": \"\", \"title\": {\"standoff\": 15}, \"zerolinecolor\": \"white\", \"zerolinewidth\": 2}}}},\n",
       "                        {\"responsive\": true}\n",
       "                    ).then(function(){\n",
       "                            \n",
       "var gd = document.getElementById('1d9974db-7895-413b-a5c6-d1ff10a2a851');\n",
       "var x = new MutationObserver(function (mutations, observer) {{\n",
       "        var display = window.getComputedStyle(gd).display;\n",
       "        if (!display || display === 'none') {{\n",
       "            console.log([gd, 'removed!']);\n",
       "            Plotly.purge(gd);\n",
       "            observer.disconnect();\n",
       "        }}\n",
       "}});\n",
       "\n",
       "// Listen for the removal of the full notebook cells\n",
       "var notebookContainer = gd.closest('#notebook-container');\n",
       "if (notebookContainer) {{\n",
       "    x.observe(notebookContainer, {childList: true});\n",
       "}}\n",
       "\n",
       "// Listen for the clearing of the current output cell\n",
       "var outputEl = gd.closest('.output');\n",
       "if (outputEl) {{\n",
       "    x.observe(outputEl, {childList: true});\n",
       "}}\n",
       "\n",
       "                        })\n",
       "                };\n",
       "                });\n",
       "            </script>\n",
       "        </div>"
      ]
     },
     "metadata": {},
     "output_type": "display_data"
    }
   ],
   "source": [
    "plot(R, D)"
   ]
  },
  {
   "cell_type": "code",
   "execution_count": null,
   "metadata": {},
   "outputs": [],
   "source": []
  }
 ],
 "metadata": {
  "kernelspec": {
   "display_name": "Python 3",
   "language": "python",
   "name": "python3"
  },
  "language_info": {
   "codemirror_mode": {
    "name": "ipython",
    "version": 3
   },
   "file_extension": ".py",
   "mimetype": "text/x-python",
   "name": "python",
   "nbconvert_exporter": "python",
   "pygments_lexer": "ipython3",
   "version": "3.7.4"
  }
 },
 "nbformat": 4,
 "nbformat_minor": 4
}

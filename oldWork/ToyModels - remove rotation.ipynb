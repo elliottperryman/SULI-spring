{
 "cells": [
  {
   "cell_type": "code",
   "execution_count": null,
   "metadata": {},
   "outputs": [],
   "source": [
    "import numpy as np\n",
    "import matplotlib.pyplot as plt"
   ]
  },
  {
   "cell_type": "code",
   "execution_count": null,
   "metadata": {},
   "outputs": [],
   "source": [
    "import plotly\n",
    "from plotly.subplots import make_subplots\n",
    "import plotly.graph_objects as go"
   ]
  },
  {
   "cell_type": "code",
   "execution_count": null,
   "metadata": {},
   "outputs": [],
   "source": [
    "def visualize_normal_mode(geometry, eigenvector, scale=10):\n",
    "    vec = eigenvector.reshape(-1, 3)\n",
    "    trace2 = go.Cone(\n",
    "        x=geometry[:, 0],\n",
    "        y=geometry[:, 1],\n",
    "        z=geometry[:, 2],\n",
    "        u=vec[:, 0] * scale,\n",
    "        v=vec[:, 1] * scale,\n",
    "        w=vec[:, 2] * scale,\n",
    "        sizemode=\"absolute\", # \"absolute\"\n",
    "        sizeref=2,\n",
    "        anchor=\"tail\"\n",
    "    )\n",
    "    return [trace2]\n",
    "\n",
    "def visualize_normal_modes(geometry, eigenvectors, scale=10, cols=3):\n",
    "#     eigenvectors = eigenvectors.round(2)\n",
    "    N3, N3 = eigenvectors.shape\n",
    "    rows = int(N3/cols)\n",
    "    if N3 % cols > 0:\n",
    "        rows += 1\n",
    "    specs = [[{'is_3d': True} for i in range(cols)]\n",
    "             for j in range(rows)]\n",
    "    fig = make_subplots(rows=rows, cols=cols, specs=specs)\n",
    "    for row in range(rows):\n",
    "        for col in range(cols):\n",
    "            i = row * cols + col\n",
    "            if i >= N3:\n",
    "                continue\n",
    "            traces = visualize_normal_mode(geometry, eigenvectors[:, i], scale)\n",
    "            fig.add_trace(traces[0], row=row + 1, col=col + 1)\n",
    "    fig.update_layout(scene_aspectmode='data')\n",
    "    return fig"
   ]
  },
  {
   "cell_type": "markdown",
   "metadata": {},
   "source": [
    "## Eliminate rotation from 1 spring - 2D"
   ]
  },
  {
   "cell_type": "code",
   "execution_count": null,
   "metadata": {},
   "outputs": [],
   "source": [
    "theta = np.pi/4"
   ]
  },
  {
   "cell_type": "code",
   "execution_count": null,
   "metadata": {},
   "outputs": [],
   "source": [
    "x = np.cos(theta)\n",
    "y = np.sin(theta)"
   ]
  },
  {
   "cell_type": "code",
   "execution_count": null,
   "metadata": {},
   "outputs": [],
   "source": [
    "diag = np.eye(2)*np.array([x, y])"
   ]
  },
  {
   "cell_type": "code",
   "execution_count": null,
   "metadata": {},
   "outputs": [],
   "source": [
    "diag"
   ]
  },
  {
   "cell_type": "code",
   "execution_count": null,
   "metadata": {},
   "outputs": [],
   "source": [
    "H = np.empty((4, 4))"
   ]
  },
  {
   "cell_type": "code",
   "execution_count": null,
   "metadata": {},
   "outputs": [],
   "source": [
    "H[:2,:2] = diag\n",
    "H[2:,2:] = diag"
   ]
  },
  {
   "cell_type": "code",
   "execution_count": null,
   "metadata": {},
   "outputs": [],
   "source": [
    "H[:2,2:] = -diag\n",
    "H[2:,:2] = -diag"
   ]
  },
  {
   "cell_type": "code",
   "execution_count": null,
   "metadata": {},
   "outputs": [],
   "source": [
    "def inertiaAxes(x,y):\n",
    "    I = np.empty((2,2))\n",
    "    \n",
    "    I[0,0] = np.sum(y**2)\n",
    "    I[1,1] = np.sum(x**2)\n",
    "    \n",
    "    I[0,1] = I[1,0] = -np.sum(y*x)\n",
    "    \n",
    "    return I"
   ]
  },
  {
   "cell_type": "code",
   "execution_count": null,
   "metadata": {},
   "outputs": [],
   "source": [
    "R = np.array([\n",
    "    [-.5, -.5],\n",
    "    [.5, .5]\n",
    "])"
   ]
  },
  {
   "cell_type": "code",
   "execution_count": null,
   "metadata": {},
   "outputs": [],
   "source": [
    "I = inertiaAxes(R[:,0], R[:,1])"
   ]
  },
  {
   "cell_type": "code",
   "execution_count": null,
   "metadata": {},
   "outputs": [],
   "source": [
    "I_prime, X = np.linalg.eigh(I)"
   ]
  },
  {
   "cell_type": "code",
   "execution_count": null,
   "metadata": {},
   "outputs": [],
   "source": [
    "np.allclose(I, X @ (I_prime*np.eye(2)) @ X.T)"
   ]
  },
  {
   "cell_type": "code",
   "execution_count": null,
   "metadata": {},
   "outputs": [],
   "source": [
    "D = np.empty((3, 4))"
   ]
  },
  {
   "cell_type": "code",
   "execution_count": null,
   "metadata": {},
   "outputs": [],
   "source": [
    "for j in range(2):\n",
    "    for i in range(2):\n",
    "        D[2,j*2+i] = np.dot(R[i],X[0])*X[j,1]-np.dot(R[i],X[1])*X[j,0]"
   ]
  },
  {
   "cell_type": "code",
   "execution_count": null,
   "metadata": {},
   "outputs": [],
   "source": [
    "for i in range(len(R)):\n",
    "    D[:2,i*2:i*2+2] = np.eye(2)"
   ]
  },
  {
   "cell_type": "code",
   "execution_count": null,
   "metadata": {},
   "outputs": [],
   "source": [
    "D.round(3)"
   ]
  },
  {
   "cell_type": "code",
   "execution_count": null,
   "metadata": {},
   "outputs": [],
   "source": [
    "l, v = np.linalg.eigh(H)"
   ]
  },
  {
   "cell_type": "code",
   "execution_count": null,
   "metadata": {},
   "outputs": [],
   "source": [
    "v = v.T"
   ]
  },
  {
   "cell_type": "code",
   "execution_count": null,
   "metadata": {},
   "outputs": [],
   "source": [
    "H.round(3)"
   ]
  },
  {
   "cell_type": "code",
   "execution_count": null,
   "metadata": {},
   "outputs": [],
   "source": [
    "l.round(3), v.round(3)"
   ]
  },
  {
   "cell_type": "code",
   "execution_count": null,
   "metadata": {},
   "outputs": [],
   "source": [
    "for i in range(len(D)):\n",
    "    norm = np.sum(np.power(D[i],2))\n",
    "    if norm>1e-3:\n",
    "        D[i] = D[i]/np.sqrt(norm)"
   ]
  },
  {
   "cell_type": "code",
   "execution_count": null,
   "metadata": {},
   "outputs": [],
   "source": [
    "v"
   ]
  },
  {
   "cell_type": "code",
   "execution_count": null,
   "metadata": {},
   "outputs": [],
   "source": [
    "for i in range(len(v)):\n",
    "    r = ((D @ v.T).T)[i]\n",
    "    remainder = v[i] - np.sum(r[:,np.newaxis]*D,0)\n",
    "    print(remainder.round(3))\n",
    "    if np.linalg.norm(remainder)<1e-2:\n",
    "        v[i] = np.zeros(len(v[i]))\n",
    "    else:\n",
    "        remainder /= np.linalg.norm(remainder)\n",
    "        v[i] = remainder\n",
    "        D = np.append(D, remainder.reshape(1,-1), 0)"
   ]
  },
  {
   "cell_type": "code",
   "execution_count": null,
   "metadata": {},
   "outputs": [],
   "source": [
    "l.round(4)"
   ]
  },
  {
   "cell_type": "code",
   "execution_count": null,
   "metadata": {},
   "outputs": [],
   "source": [
    "D"
   ]
  },
  {
   "cell_type": "code",
   "execution_count": null,
   "metadata": {},
   "outputs": [],
   "source": [
    "scale = .1\n",
    "\n",
    "for i in range(len(v)):\n",
    "    plt.xlim((-.5,1.5))\n",
    "    plt.ylim((-.5,1.5))\n",
    "    for j in range(int(len(v)/2)):\n",
    "        x,y = j*np.cos(theta),j*np.sin(theta)\n",
    "        plt.arrow(x,y, v[i,j*2]*scale, v[i,j*2+1]*scale, width=.01)        \n",
    "    plt.show()"
   ]
  },
  {
   "cell_type": "code",
   "execution_count": null,
   "metadata": {},
   "outputs": [],
   "source": [
    "(D @ D.T).round(2)"
   ]
  },
  {
   "cell_type": "code",
   "execution_count": null,
   "metadata": {},
   "outputs": [],
   "source": [
    "l_new, v_new = np.linalg.eigh((D.T @ H @ D)[3:,3:])"
   ]
  },
  {
   "cell_type": "code",
   "execution_count": null,
   "metadata": {},
   "outputs": [],
   "source": [
    "l_new"
   ]
  },
  {
   "cell_type": "markdown",
   "metadata": {},
   "source": [
    "## 2 spring system"
   ]
  },
  {
   "cell_type": "code",
   "execution_count": null,
   "metadata": {},
   "outputs": [],
   "source": [
    "R = np.array([\n",
    "    [-1., -1],\n",
    "    [0, 0],\n",
    "    [1, -1.],\n",
    "])"
   ]
  },
  {
   "cell_type": "code",
   "execution_count": null,
   "metadata": {},
   "outputs": [],
   "source": [
    "mySum = np.sum(R, 0)\n",
    "for i in range(len(R)):\n",
    "    R[i] = R[i] - mySum/len(R)"
   ]
  },
  {
   "cell_type": "code",
   "execution_count": null,
   "metadata": {},
   "outputs": [],
   "source": [
    "springs = [(0,1),(1,2)]"
   ]
  },
  {
   "cell_type": "code",
   "execution_count": null,
   "metadata": {},
   "outputs": [],
   "source": [
    "H = np.zeros((len(R)*2, len(R)*2))\n",
    "for i, (start, stop) in enumerate(springs):\n",
    "    proj = np.abs(R[stop]-R[start])\n",
    "    proj /= np.linalg.norm(proj)\n",
    "    \n",
    "    H[start*2:start*2+2, start*2:start*2+2] += -np.eye(2)*proj\n",
    "    H[stop*2:stop*2+2, stop*2:stop*2+2] += -np.eye(2)*proj\n",
    "    \n",
    "    H[start*2:start*2+2, stop*2:stop*2+2] += np.eye(2)*proj\n",
    "    H[stop*2:stop*2+2, start*2:start*2+2] += np.eye(2)*proj"
   ]
  },
  {
   "cell_type": "code",
   "execution_count": null,
   "metadata": {},
   "outputs": [],
   "source": [
    "def inertiaAxes(x,y):\n",
    "    I = np.empty((2,2))\n",
    "    \n",
    "    I[0,0] = np.sum(y**2)\n",
    "    I[1,1] = np.sum(x**2)\n",
    "    \n",
    "    I[0,1] = I[1,0] = -np.sum(y*x)\n",
    "    \n",
    "    return I"
   ]
  },
  {
   "cell_type": "code",
   "execution_count": null,
   "metadata": {},
   "outputs": [],
   "source": [
    "I = inertiaAxes(R[:,0], R[:,1])"
   ]
  },
  {
   "cell_type": "code",
   "execution_count": null,
   "metadata": {},
   "outputs": [],
   "source": [
    "I.round(3)"
   ]
  },
  {
   "cell_type": "code",
   "execution_count": null,
   "metadata": {},
   "outputs": [],
   "source": [
    "I_prime, X = np.linalg.eigh(I)"
   ]
  },
  {
   "cell_type": "code",
   "execution_count": null,
   "metadata": {},
   "outputs": [],
   "source": [
    "X.round(3)"
   ]
  },
  {
   "cell_type": "code",
   "execution_count": null,
   "metadata": {},
   "outputs": [],
   "source": [
    "I_prime.round(3)"
   ]
  },
  {
   "cell_type": "code",
   "execution_count": null,
   "metadata": {},
   "outputs": [],
   "source": [
    "D = np.empty((3, len(R)*2))"
   ]
  },
  {
   "cell_type": "code",
   "execution_count": null,
   "metadata": {},
   "outputs": [],
   "source": [
    "for i in range(len(R)):\n",
    "    for j in range(2):\n",
    "        D[2,i*2+j] = np.dot(R[i],X[0])*X[j,1]-np.dot(R[i],X[1])*X[j,0]"
   ]
  },
  {
   "cell_type": "code",
   "execution_count": null,
   "metadata": {},
   "outputs": [],
   "source": [
    "for i in range(len(R)):\n",
    "    D[:2,i*2:i*2+2] = np.eye(2)"
   ]
  },
  {
   "cell_type": "code",
   "execution_count": null,
   "metadata": {},
   "outputs": [],
   "source": [
    "l, v = np.linalg.eigh(-H)"
   ]
  },
  {
   "cell_type": "code",
   "execution_count": null,
   "metadata": {},
   "outputs": [],
   "source": [
    "v = v.T"
   ]
  },
  {
   "cell_type": "code",
   "execution_count": null,
   "metadata": {},
   "outputs": [],
   "source": [
    "for i in range(len(D)):\n",
    "    D[i] /= np.linalg.norm(D[i])"
   ]
  },
  {
   "cell_type": "code",
   "execution_count": null,
   "metadata": {},
   "outputs": [],
   "source": [
    "for i in range(len(v)):\n",
    "    c = np.array([np.dot(D[j],v[i]) for j in range(len(D))])\n",
    "    proj = np.sum([c[j]*D[j] for j in range(len(D))], 0)\n",
    "    proj = v[i] - proj\n",
    "    norm = np.linalg.norm(proj)\n",
    "    if norm>1e-4:\n",
    "        D = np.append(D, (proj/norm).reshape(1,-1), 0)\n",
    "        v[i] = proj/norm\n",
    "    else:\n",
    "        v[i] = 0"
   ]
  },
  {
   "cell_type": "code",
   "execution_count": null,
   "metadata": {},
   "outputs": [],
   "source": [
    "scale = .7\n",
    "\n",
    "for i in range(len(D)):\n",
    "    plt.xlim((-2,2.))\n",
    "    plt.ylim((-2,2.))\n",
    "    for j in range(len(R)):\n",
    "        x,y = R[j]\n",
    "        plt.arrow(x,y, D[i,j*2]*scale, D[i,j*2+1]*scale, width=.1)             \n",
    "\n",
    "    plt.show()"
   ]
  },
  {
   "cell_type": "code",
   "execution_count": null,
   "metadata": {},
   "outputs": [],
   "source": [
    "scale = .7\n",
    "\n",
    "for i in range(len(D[3:])):\n",
    "    plt.xlim((-2,2.))\n",
    "    plt.ylim((-2,2.))\n",
    "    for j in range(len(R)):\n",
    "        x,y = R[j]\n",
    "        plt.arrow(x,y, D[i+3,j*2]*scale, D[i+3,j*2+1]*scale, width=.1)             \n",
    "\n",
    "    plt.show()"
   ]
  },
  {
   "cell_type": "code",
   "execution_count": null,
   "metadata": {},
   "outputs": [],
   "source": [
    "l_new, v_new = np.linalg.eigh(-(D.T @ H @ D)[3:,3:])"
   ]
  },
  {
   "cell_type": "code",
   "execution_count": null,
   "metadata": {},
   "outputs": [],
   "source": [
    "# \n",
    "A = np.array([.5, -.5, 0, 1, -.5, -.5])"
   ]
  },
  {
   "cell_type": "code",
   "execution_count": null,
   "metadata": {},
   "outputs": [],
   "source": [
    "A /= np.linalg.norm(A)"
   ]
  },
  {
   "cell_type": "code",
   "execution_count": null,
   "metadata": {},
   "outputs": [],
   "source": [
    "(D @ A.reshape(-1,1)).round(3)"
   ]
  },
  {
   "cell_type": "code",
   "execution_count": null,
   "metadata": {},
   "outputs": [],
   "source": [
    "l_new.round(3)"
   ]
  },
  {
   "cell_type": "code",
   "execution_count": null,
   "metadata": {},
   "outputs": [],
   "source": [
    "from ipywidgets import interactive"
   ]
  },
  {
   "cell_type": "code",
   "execution_count": null,
   "metadata": {},
   "outputs": [],
   "source": [
    "l.round(3)"
   ]
  },
  {
   "cell_type": "code",
   "execution_count": null,
   "metadata": {},
   "outputs": [],
   "source": [
    "%matplotlib inline\n",
    "def sumEigen(c0, c1, c2, c3, c4, c5):\n",
    "    c = np.array([c0, c1, c2, c3, c4, c5]).reshape(-1,1)\n",
    "    \n",
    "    newVec = np.sum(D*c, 0)\n",
    "    plt.figure(2)\n",
    "    plt.xlim((-2,2.))\n",
    "    plt.ylim((-2,2.))\n",
    "    for i in range(len(R)):\n",
    "        plt.arrow(R[i,0],R[i,1], newVec[i*2]*scale, newVec[i*2+1]*scale, width=.1)\n",
    "    \n",
    "    plt.title('')\n",
    "\n",
    "interactive_plot = interactive(sumEigen, c0=0., c1=0., c2=0., c3=-.5, c4=0., c5=-.866)\n",
    "output = interactive_plot.children[-1]\n",
    "output.layout.height = '350px'\n",
    "interactive_plot"
   ]
  },
  {
   "cell_type": "code",
   "execution_count": null,
   "metadata": {},
   "outputs": [],
   "source": [
    "l.round(3)"
   ]
  },
  {
   "cell_type": "code",
   "execution_count": null,
   "metadata": {},
   "outputs": [],
   "source": [
    "D[2].round(3)"
   ]
  },
  {
   "cell_type": "code",
   "execution_count": null,
   "metadata": {},
   "outputs": [],
   "source": [
    "(H @ D[2].reshape(-1,1)).round(3)"
   ]
  },
  {
   "cell_type": "code",
   "execution_count": null,
   "metadata": {},
   "outputs": [],
   "source": [
    "oldV = v[2].reshape(-1,1)\n",
    "newV = H @ oldV"
   ]
  },
  {
   "cell_type": "code",
   "execution_count": null,
   "metadata": {},
   "outputs": [],
   "source": [
    "olfnewV[0,0]"
   ]
  },
  {
   "cell_type": "code",
   "execution_count": null,
   "metadata": {},
   "outputs": [],
   "source": [
    "newV.round(3)"
   ]
  },
  {
   "cell_type": "markdown",
   "metadata": {},
   "source": [
    "## Find Hinge in 2 triangles - 2D"
   ]
  },
  {
   "cell_type": "code",
   "execution_count": null,
   "metadata": {},
   "outputs": [],
   "source": [
    "R = np.array([\n",
    "    [-1, -1],\n",
    "    [-1, 1],\n",
    "    [0., 0],\n",
    "    [1, 1.],\n",
    "    [1,-1],\n",
    "])"
   ]
  },
  {
   "cell_type": "code",
   "execution_count": null,
   "metadata": {},
   "outputs": [],
   "source": [
    "mySum = np.sum(R, 0)\n",
    "for i in range(len(R)):\n",
    "    R[i] = R[i] - mySum/len(R)"
   ]
  },
  {
   "cell_type": "code",
   "execution_count": null,
   "metadata": {},
   "outputs": [],
   "source": [
    "springs = [(0,1), (0,2), (1,2),\n",
    "          (2,3), (2,4), (3,4)]"
   ]
  },
  {
   "cell_type": "code",
   "execution_count": null,
   "metadata": {},
   "outputs": [],
   "source": [
    "H = np.zeros((len(R)*2, len(R)*2))\n",
    "for i, (start, stop) in enumerate(springs):\n",
    "    proj = R[stop]-R[start]\n",
    "    \n",
    "    H[start*2:start*2+2, start*2:start*2+2] += np.eye(2)*proj\n",
    "    H[stop*2:stop*2+2, stop*2:stop*2+2] += np.eye(2)*proj\n",
    "    \n",
    "    H[start*2:start*2+2, stop*2:stop*2+2] += -np.eye(2)*proj\n",
    "    H[stop*2:stop*2+2, start*2:start*2+2] += -np.eye(2)*proj\n",
    "    "
   ]
  },
  {
   "cell_type": "code",
   "execution_count": null,
   "metadata": {},
   "outputs": [],
   "source": [
    "def inertiaAxes(x,y):\n",
    "    I = np.empty((2,2))\n",
    "    \n",
    "    I[0,0] = np.sum(y**2)\n",
    "    I[1,1] = np.sum(x**2)\n",
    "    \n",
    "    I[0,1] = I[1,0] = -np.sum(y*x)\n",
    "    \n",
    "    return I"
   ]
  },
  {
   "cell_type": "code",
   "execution_count": null,
   "metadata": {},
   "outputs": [],
   "source": [
    "I = inertiaAxes(R[:,0], R[:,1])"
   ]
  },
  {
   "cell_type": "code",
   "execution_count": null,
   "metadata": {},
   "outputs": [],
   "source": [
    "I_prime, X = np.linalg.eigh(I)"
   ]
  },
  {
   "cell_type": "code",
   "execution_count": null,
   "metadata": {},
   "outputs": [],
   "source": [
    "np.allclose(I, X @ (I_prime*np.eye(2)) @ X.T)"
   ]
  },
  {
   "cell_type": "code",
   "execution_count": null,
   "metadata": {},
   "outputs": [],
   "source": [
    "D = np.empty((3, len(R)*2))"
   ]
  },
  {
   "cell_type": "code",
   "execution_count": null,
   "metadata": {},
   "outputs": [],
   "source": [
    "for i in range(len(R)):\n",
    "    for j in range(2):\n",
    "        D[2,i*2+j] = np.dot(R[i],X[0])*X[j,1]-np.dot(R[i],X[1])*X[j,0]"
   ]
  },
  {
   "cell_type": "code",
   "execution_count": null,
   "metadata": {},
   "outputs": [],
   "source": [
    "for i in range(len(R)):\n",
    "    D[:2,i*2:i*2+2] = np.eye(2)"
   ]
  },
  {
   "cell_type": "code",
   "execution_count": null,
   "metadata": {},
   "outputs": [],
   "source": [
    "l, v = np.linalg.eigh(H)"
   ]
  },
  {
   "cell_type": "code",
   "execution_count": null,
   "metadata": {},
   "outputs": [],
   "source": [
    "v = v.T"
   ]
  },
  {
   "cell_type": "code",
   "execution_count": null,
   "metadata": {},
   "outputs": [],
   "source": [
    "for i in range(len(D)):\n",
    "    norm = np.sum(np.power(D[i],2))\n",
    "    if norm>1e-3:\n",
    "        D[i] = D[i]/np.sqrt(norm)"
   ]
  },
  {
   "cell_type": "code",
   "execution_count": null,
   "metadata": {},
   "outputs": [],
   "source": [
    "for i in range(len(v)):\n",
    "    r = ((D @ v.T).T)[i]\n",
    "    remainder = v[i] - np.sum(r[:,np.newaxis]*D,0)\n",
    "#    print(remainder.round(3))\n",
    "    if np.linalg.norm(remainder)<1e-6:\n",
    "        v[i] = np.zeros(len(v[i]))\n",
    "    else:\n",
    "        remainder /= np.linalg.norm(remainder)\n",
    "        v[i] = remainder\n",
    "        D = np.append(D, remainder.reshape(1,-1), 0)"
   ]
  },
  {
   "cell_type": "code",
   "execution_count": null,
   "metadata": {},
   "outputs": [],
   "source": [
    "v.round(1)"
   ]
  },
  {
   "cell_type": "code",
   "execution_count": null,
   "metadata": {},
   "outputs": [],
   "source": [
    "l.round(2)"
   ]
  },
  {
   "cell_type": "code",
   "execution_count": null,
   "metadata": {},
   "outputs": [],
   "source": [
    "scale = .7\n",
    "\n",
    "for i in range(len(v)):\n",
    "    plt.xlim((-2,2.))\n",
    "    plt.ylim((-2,2.))\n",
    "    for j in range(len(R)):\n",
    "        x,y = R[j]\n",
    "        plt.arrow(x,y, v[i,j*2]*scale, v[i,j*2+1]*scale, width=.1)             \n",
    "\n",
    "    plt.show()"
   ]
  },
  {
   "cell_type": "code",
   "execution_count": null,
   "metadata": {},
   "outputs": [],
   "source": [
    "l[6].round(3)"
   ]
  },
  {
   "cell_type": "code",
   "execution_count": null,
   "metadata": {},
   "outputs": [],
   "source": [
    "l.round(2)"
   ]
  },
  {
   "cell_type": "code",
   "execution_count": null,
   "metadata": {},
   "outputs": [],
   "source": [
    "(D @ D.T).round(2)"
   ]
  },
  {
   "cell_type": "code",
   "execution_count": null,
   "metadata": {},
   "outputs": [],
   "source": [
    "l_new, v_new = np.linalg.eigh((D.T @ H @ D)[3:,3:])"
   ]
  },
  {
   "cell_type": "code",
   "execution_count": null,
   "metadata": {},
   "outputs": [],
   "source": [
    "l_new.round(3)"
   ]
  },
  {
   "cell_type": "markdown",
   "metadata": {},
   "source": [
    "## Eliminate rotation - 3d - 2 springs"
   ]
  },
  {
   "cell_type": "code",
   "execution_count": null,
   "metadata": {},
   "outputs": [],
   "source": [
    "R = np.array([\n",
    "    [0, 0, 0],\n",
    "    [1, 0, 0],\n",
    "    [.5, np.sqrt(3)/2, 0.],\n",
    "])"
   ]
  },
  {
   "cell_type": "code",
   "execution_count": null,
   "metadata": {},
   "outputs": [],
   "source": [
    "mySum = np.sum(R, 0)\n",
    "for i in range(len(R)):\n",
    "    R[i] = R[i] - mySum/len(R)"
   ]
  },
  {
   "cell_type": "code",
   "execution_count": null,
   "metadata": {},
   "outputs": [],
   "source": [
    "springs = [(0,1), (1,2)]"
   ]
  },
  {
   "cell_type": "code",
   "execution_count": null,
   "metadata": {},
   "outputs": [],
   "source": [
    "H = np.zeros((len(R)*3, len(R)*3))\n",
    "for i, (start, stop) in enumerate(springs):\n",
    "    proj = R[stop]-R[start]\n",
    "    proj = np.nan_to_num(proj/np.linalg.norm(proj))\n",
    "    \n",
    "    H[start*3:start*3+3, start*3:start*3+3] += np.eye(3)*proj\n",
    "    H[stop*3:stop*3+3, stop*3:stop*3+3] += np.eye(3)*proj\n",
    "    \n",
    "    H[start*3:start*3+3, stop*3:stop*3+3] += -np.eye(3)*proj\n",
    "    H[stop*3:stop*3+3, start*3:start*3+3] += -np.eye(3)*proj\n",
    "    "
   ]
  },
  {
   "cell_type": "code",
   "execution_count": null,
   "metadata": {},
   "outputs": [],
   "source": [
    "def inertiaAxes(x,y,z):\n",
    "    I = np.empty((3,3))\n",
    "    \n",
    "    I[0,0] = np.sum(y**2+z**2)\n",
    "    I[1,1] = np.sum(x**2+z**2)\n",
    "    I[2,2] = np.sum(x**2+y**2)\n",
    "    \n",
    "    I[0,1] = I[1,0] = -np.sum(y*x)\n",
    "    I[0,2] = I[2,0] = -np.sum(z*x)\n",
    "    I[1,2] = I[2,1] = -np.sum(y*z)\n",
    "    \n",
    "    return I"
   ]
  },
  {
   "cell_type": "code",
   "execution_count": null,
   "metadata": {},
   "outputs": [],
   "source": [
    "l, v = np.linalg.eigh(H)"
   ]
  },
  {
   "cell_type": "code",
   "execution_count": null,
   "metadata": {},
   "outputs": [],
   "source": [
    "v = v.T"
   ]
  },
  {
   "cell_type": "code",
   "execution_count": null,
   "metadata": {},
   "outputs": [],
   "source": [
    "I = inertiaAxes(R[:,0], R[:,1], R[:,2])"
   ]
  },
  {
   "cell_type": "code",
   "execution_count": null,
   "metadata": {},
   "outputs": [],
   "source": [
    "I_prime, X = np.linalg.eigh(I)"
   ]
  },
  {
   "cell_type": "code",
   "execution_count": null,
   "metadata": {},
   "outputs": [],
   "source": [
    "D = np.empty((6,len(R)*3))"
   ]
  },
  {
   "cell_type": "code",
   "execution_count": null,
   "metadata": {},
   "outputs": [],
   "source": [
    "for i in range(len(R)):\n",
    "    for j in range(3):\n",
    "        D[3,i*3+j] = np.dot(R[i],X[1])*X[j,2]-np.dot(R[i],X[2])*X[j,1]\n",
    "        D[4,i*3+j] = np.dot(R[i],X[2])*X[j,0]-np.dot(R[i],X[0])*X[j,2]  \n",
    "        D[5,i*3+j] = np.dot(R[i],X[0])*X[j,1]-np.dot(R[i],X[1])*X[j,0]"
   ]
  },
  {
   "cell_type": "code",
   "execution_count": null,
   "metadata": {},
   "outputs": [],
   "source": [
    "for i in range(len(R)):\n",
    "    D[:3,i*3:i*3+3] = np.eye(3)"
   ]
  },
  {
   "cell_type": "code",
   "execution_count": null,
   "metadata": {},
   "outputs": [],
   "source": [
    "for i in range(len(D)):\n",
    "    D[i] /= np.linalg.norm(D[i])"
   ]
  },
  {
   "cell_type": "code",
   "execution_count": null,
   "metadata": {},
   "outputs": [],
   "source": [
    "for i in range(len(v)):\n",
    "    remainder = v[i] - np.sum((D @ v[i]).reshape(-1,1) * D, 0)\n",
    "\n",
    "    if np.linalg.norm(remainder)<.02:\n",
    "        v[i] = np.zeros(len(v[i]))\n",
    "    else:\n",
    "        remainder /= np.linalg.norm(remainder)\n",
    "        v[i] = remainder\n",
    "        D = np.append(D, remainder.reshape(1,-1), 0)"
   ]
  },
  {
   "cell_type": "code",
   "execution_count": null,
   "metadata": {},
   "outputs": [],
   "source": [
    "v.round(2)"
   ]
  },
  {
   "cell_type": "code",
   "execution_count": null,
   "metadata": {},
   "outputs": [],
   "source": [
    "nonZeros = np.asarray([x for x in v if not (x==0).all()])"
   ]
  },
  {
   "cell_type": "code",
   "execution_count": null,
   "metadata": {},
   "outputs": [],
   "source": [
    "visualize_normal_modes(R, nonZeros.T)"
   ]
  },
  {
   "cell_type": "code",
   "execution_count": null,
   "metadata": {},
   "outputs": [],
   "source": [
    "(D @ D.T).round(2)"
   ]
  },
  {
   "cell_type": "code",
   "execution_count": null,
   "metadata": {},
   "outputs": [],
   "source": [
    "l_new, v_new = np.linalg.eigh((D.T @ H @ D)[6:,6:])"
   ]
  },
  {
   "cell_type": "code",
   "execution_count": null,
   "metadata": {},
   "outputs": [],
   "source": [
    "l_new.round(4)"
   ]
  },
  {
   "cell_type": "code",
   "execution_count": null,
   "metadata": {},
   "outputs": [],
   "source": []
  },
  {
   "cell_type": "markdown",
   "metadata": {},
   "source": [
    "## Eliminate rotation from tetrahedron"
   ]
  },
  {
   "cell_type": "code",
   "execution_count": null,
   "metadata": {},
   "outputs": [],
   "source": [
    "R = np.array([\n",
    "    np.ones(3),\n",
    "    [1, -1, -1.],\n",
    "    [-1, 1, -1],\n",
    "    [-1, -1, 1]\n",
    "])"
   ]
  },
  {
   "cell_type": "code",
   "execution_count": null,
   "metadata": {},
   "outputs": [],
   "source": [
    "springs = [(0,1),(0,2),(0,3),(1,2),(1,3),(2,3)]"
   ]
  },
  {
   "cell_type": "code",
   "execution_count": null,
   "metadata": {},
   "outputs": [],
   "source": [
    "mySum = np.sum(R, 0)\n",
    "for i in range(len(R)):\n",
    "    R[i] = R[i] - mySum/len(R)"
   ]
  },
  {
   "cell_type": "code",
   "execution_count": null,
   "metadata": {},
   "outputs": [],
   "source": [
    "H = np.zeros((len(R)*3, len(R)*3))\n",
    "for i, (start, stop) in enumerate(springs):\n",
    "    proj = R[stop]-R[start]\n",
    "    proj = np.nan_to_num(proj/np.linalg.norm(proj))\n",
    "    \n",
    "    H[start*3:start*3+3, start*3:start*3+3] += np.eye(3)*proj\n",
    "    H[stop*3:stop*3+3, stop*3:stop*3+3] += np.eye(3)*proj\n",
    "    \n",
    "    H[start*3:start*3+3, stop*3:stop*3+3] += -np.eye(3)*proj\n",
    "    H[stop*3:stop*3+3, start*3:start*3+3] += -np.eye(3)*proj\n",
    "    "
   ]
  },
  {
   "cell_type": "code",
   "execution_count": null,
   "metadata": {},
   "outputs": [],
   "source": [
    "def inertiaAxes(x,y,z):\n",
    "    I = np.empty((3,3))\n",
    "    \n",
    "    I[0,0] = np.sum(y**2+z**2)\n",
    "    I[1,1] = np.sum(x**2+z**2)\n",
    "    I[2,2] = np.sum(x**2+y**2)\n",
    "    \n",
    "    I[0,1] = I[1,0] = -np.sum(y*x)\n",
    "    I[0,2] = I[2,0] = -np.sum(z*x)\n",
    "    I[1,2] = I[2,1] = -np.sum(y*z)\n",
    "    \n",
    "    return I"
   ]
  },
  {
   "cell_type": "code",
   "execution_count": null,
   "metadata": {},
   "outputs": [],
   "source": [
    "l, v = np.linalg.eigh(H)"
   ]
  },
  {
   "cell_type": "code",
   "execution_count": null,
   "metadata": {},
   "outputs": [],
   "source": [
    "v = v.T"
   ]
  },
  {
   "cell_type": "code",
   "execution_count": null,
   "metadata": {},
   "outputs": [],
   "source": [
    "I = inertiaAxes(R[:,0], R[:,1], R[:,2])"
   ]
  },
  {
   "cell_type": "code",
   "execution_count": null,
   "metadata": {},
   "outputs": [],
   "source": [
    "I_prime, X = np.linalg.eigh(I)"
   ]
  },
  {
   "cell_type": "code",
   "execution_count": null,
   "metadata": {},
   "outputs": [],
   "source": [
    "D = np.empty((6,len(R)*3))"
   ]
  },
  {
   "cell_type": "code",
   "execution_count": null,
   "metadata": {},
   "outputs": [],
   "source": [
    "for i in range(len(R)):\n",
    "    for j in range(3):\n",
    "        D[3,i*3+j] = np.dot(R[i],X[1])*X[j,2]-np.dot(R[i],X[2])*X[j,1]\n",
    "        D[4,i*3+j] = np.dot(R[i],X[2])*X[j,0]-np.dot(R[i],X[0])*X[j,2]  \n",
    "        D[5,i*3+j] = np.dot(R[i],X[0])*X[j,1]-np.dot(R[i],X[1])*X[j,0]"
   ]
  },
  {
   "cell_type": "code",
   "execution_count": null,
   "metadata": {},
   "outputs": [],
   "source": [
    "for i in range(len(R)):\n",
    "    D[:3,i*3:i*3+3] = np.eye(3)"
   ]
  },
  {
   "cell_type": "code",
   "execution_count": null,
   "metadata": {},
   "outputs": [],
   "source": [
    "for i in range(len(D)):\n",
    "    D[i] /= np.linalg.norm(D[i])"
   ]
  },
  {
   "cell_type": "code",
   "execution_count": null,
   "metadata": {},
   "outputs": [],
   "source": [
    "for i in range(len(v)):\n",
    "    remainder = v[i] - np.sum((D @ v[i]).reshape(-1,1) * D, 0)\n",
    "\n",
    "    if np.linalg.norm(remainder)<.02:\n",
    "        v[i] = np.zeros(len(v[i]))\n",
    "    else:\n",
    "        remainder /= np.linalg.norm(remainder)\n",
    "        v[i] = remainder\n",
    "        D = np.append(D, remainder.reshape(1,-1), 0)"
   ]
  },
  {
   "cell_type": "code",
   "execution_count": null,
   "metadata": {},
   "outputs": [],
   "source": [
    "nonZeros = np.asarray([not (x==0).all() for x in v])"
   ]
  },
  {
   "cell_type": "code",
   "execution_count": null,
   "metadata": {},
   "outputs": [],
   "source": [
    "l.round(3)"
   ]
  },
  {
   "cell_type": "code",
   "execution_count": null,
   "metadata": {},
   "outputs": [],
   "source": [
    "l[nonZeros].round(3)"
   ]
  },
  {
   "cell_type": "code",
   "execution_count": null,
   "metadata": {},
   "outputs": [],
   "source": [
    "visualize_normal_modes(R, v[nonZeros].T)"
   ]
  },
  {
   "cell_type": "code",
   "execution_count": null,
   "metadata": {},
   "outputs": [],
   "source": [
    "(D @ D.T).round(2)"
   ]
  },
  {
   "cell_type": "code",
   "execution_count": null,
   "metadata": {},
   "outputs": [],
   "source": [
    "l_new, v_new = np.linalg.eigh((D.T @ H @ D)[6:,6:])"
   ]
  },
  {
   "cell_type": "code",
   "execution_count": null,
   "metadata": {},
   "outputs": [],
   "source": [
    "l_new.round(4)"
   ]
  },
  {
   "cell_type": "code",
   "execution_count": null,
   "metadata": {},
   "outputs": [],
   "source": []
  },
  {
   "cell_type": "code",
   "execution_count": null,
   "metadata": {},
   "outputs": [],
   "source": []
  },
  {
   "cell_type": "code",
   "execution_count": null,
   "metadata": {},
   "outputs": [],
   "source": []
  }
 ],
 "metadata": {
  "kernelspec": {
   "display_name": "Python 3",
   "language": "python",
   "name": "python3"
  },
  "language_info": {
   "codemirror_mode": {
    "name": "ipython",
    "version": 3
   },
   "file_extension": ".py",
   "mimetype": "text/x-python",
   "name": "python",
   "nbconvert_exporter": "python",
   "pygments_lexer": "ipython3",
   "version": "3.7.4"
  }
 },
 "nbformat": 4,
 "nbformat_minor": 4
}

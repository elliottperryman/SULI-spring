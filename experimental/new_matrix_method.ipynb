{
 "cells": [
  {
   "cell_type": "code",
   "execution_count": 1,
   "metadata": {},
   "outputs": [],
   "source": [
    "import matplotlib.pyplot as plt"
   ]
  },
  {
   "cell_type": "code",
   "execution_count": 2,
   "metadata": {},
   "outputs": [],
   "source": [
    "import numpy as np"
   ]
  },
  {
   "cell_type": "code",
   "execution_count": 12,
   "metadata": {},
   "outputs": [],
   "source": [
    "R = np.array([\n",
    "    [-1., 1],\n",
    "    [0, 0],\n",
    "    [1, 1],\n",
    "])"
   ]
  },
  {
   "cell_type": "code",
   "execution_count": 5,
   "metadata": {},
   "outputs": [],
   "source": [
    "springs = [(0,1), (1, 2)]"
   ]
  },
  {
   "cell_type": "code",
   "execution_count": 4,
   "metadata": {},
   "outputs": [],
   "source": [
    "N, k = R.shape"
   ]
  },
  {
   "cell_type": "code",
   "execution_count": 10,
   "metadata": {},
   "outputs": [],
   "source": [
    "H = np.zeros((N,k,N,k))\n",
    "\n",
    "for i, (start_,stop_) in enumerate(springs):\n",
    "    v = (R[stop_]-R[start_]).reshape(-1,1)\n",
    "    for start, stop in [(start_,stop_),(stop_,start_)]:\n",
    "        H[start,:,start,:] += v@v.T*np.sign(v[0,0])\n",
    "        H[stop,:,start,:] += -v@v.T*np.sign(v[0,0])\n",
    "\n",
    "H = H.reshape(N*k,N*k)"
   ]
  },
  {
   "cell_type": "code",
   "execution_count": 11,
   "metadata": {},
   "outputs": [
    {
     "data": {
      "text/plain": [
       "array([[ 1., -1., -1.,  1.,  0.,  0.],\n",
       "       [-1.,  1.,  1., -1.,  0.,  0.],\n",
       "       [-1.,  1.,  2.,  0., -1., -1.],\n",
       "       [ 1., -1.,  0.,  2., -1., -1.],\n",
       "       [ 0.,  0., -1., -1.,  1.,  1.],\n",
       "       [ 0.,  0., -1., -1.,  1.,  1.]])"
      ]
     },
     "execution_count": 11,
     "metadata": {},
     "output_type": "execute_result"
    }
   ],
   "source": [
    "H.round(3)"
   ]
  },
  {
   "cell_type": "code",
   "execution_count": 13,
   "metadata": {},
   "outputs": [],
   "source": [
    "R = np.array([\n",
    "    [-1., 0],\n",
    "    [0, 0],\n",
    "    [1, 0],\n",
    "])"
   ]
  },
  {
   "cell_type": "code",
   "execution_count": 14,
   "metadata": {},
   "outputs": [],
   "source": [
    "springs = [(0,1), (1, 2)]"
   ]
  },
  {
   "cell_type": "code",
   "execution_count": 15,
   "metadata": {},
   "outputs": [],
   "source": [
    "N, k = R.shape"
   ]
  },
  {
   "cell_type": "code",
   "execution_count": 16,
   "metadata": {},
   "outputs": [],
   "source": [
    "H = np.zeros((N,k,N,k))\n",
    "\n",
    "for i, (start_,stop_) in enumerate(springs):\n",
    "    v = (R[stop_]-R[start_]).reshape(-1,1)\n",
    "    for start, stop in [(start_,stop_),(stop_,start_)]:\n",
    "        H[start,:,start,:] += v@v.T*np.sign(v[0,0])\n",
    "        H[stop,:,start,:] += -v@v.T*np.sign(v[0,0])\n",
    "\n",
    "H = H.reshape(N*k,N*k)"
   ]
  },
  {
   "cell_type": "code",
   "execution_count": 17,
   "metadata": {},
   "outputs": [
    {
     "data": {
      "text/plain": [
       "array([[ 1.,  0., -1.,  0.,  0.,  0.],\n",
       "       [ 0.,  0.,  0.,  0.,  0.,  0.],\n",
       "       [-1.,  0.,  2.,  0., -1.,  0.],\n",
       "       [ 0.,  0.,  0.,  0.,  0.,  0.],\n",
       "       [ 0.,  0., -1.,  0.,  1.,  0.],\n",
       "       [ 0.,  0.,  0.,  0.,  0.,  0.]])"
      ]
     },
     "execution_count": 17,
     "metadata": {},
     "output_type": "execute_result"
    }
   ],
   "source": [
    "H.round(3)"
   ]
  },
  {
   "cell_type": "code",
   "execution_count": 24,
   "metadata": {},
   "outputs": [],
   "source": [
    "R = np.array([\n",
    "    [0.,1],\n",
    "    [0, 0],\n",
    "    [0, 1],\n",
    "])"
   ]
  },
  {
   "cell_type": "code",
   "execution_count": 25,
   "metadata": {},
   "outputs": [],
   "source": [
    "springs = [(0,1), (1, 2)]"
   ]
  },
  {
   "cell_type": "code",
   "execution_count": 26,
   "metadata": {},
   "outputs": [],
   "source": [
    "N, k = R.shape"
   ]
  },
  {
   "cell_type": "code",
   "execution_count": 31,
   "metadata": {},
   "outputs": [],
   "source": [
    "H = np.zeros((N,k,N,k))\n",
    "\n",
    "for i, (start_,stop_) in enumerate(springs):\n",
    "    v = (R[stop_]-R[start_]).reshape(-1,1)\n",
    "    for start, stop in [(start_,stop_),(stop_,start_)]:\n",
    "        s = np.sign(v[0,0])\n",
    "        if s==0: s = 1\n",
    "        H[start,:,start,:] += v@v.T*s\n",
    "        H[stop,:,start,:] += -v@v.T*s\n",
    "\n",
    "H = H.reshape(N*k,N*k)"
   ]
  },
  {
   "cell_type": "code",
   "execution_count": 32,
   "metadata": {},
   "outputs": [
    {
     "data": {
      "text/plain": [
       "array([[ 0.,  0.,  0.,  0.,  0.,  0.],\n",
       "       [ 0.,  1.,  0., -1.,  0.,  0.],\n",
       "       [ 0.,  0.,  0.,  0.,  0.,  0.],\n",
       "       [ 0., -1.,  0.,  2.,  0., -1.],\n",
       "       [ 0.,  0.,  0.,  0.,  0.,  0.],\n",
       "       [ 0.,  0.,  0., -1.,  0.,  1.]])"
      ]
     },
     "execution_count": 32,
     "metadata": {},
     "output_type": "execute_result"
    }
   ],
   "source": [
    "H.round(3)"
   ]
  },
  {
   "cell_type": "code",
   "execution_count": 29,
   "metadata": {},
   "outputs": [],
   "source": [
    "v = R[1]-R[0]"
   ]
  },
  {
   "cell_type": "code",
   "execution_count": 30,
   "metadata": {},
   "outputs": [
    {
     "data": {
      "text/plain": [
       "0.0"
      ]
     },
     "execution_count": 30,
     "metadata": {},
     "output_type": "execute_result"
    }
   ],
   "source": [
    "np.sign(v[0])"
   ]
  },
  {
   "cell_type": "code",
   "execution_count": 297,
   "metadata": {},
   "outputs": [],
   "source": [
    "l, v = np.linalg.eigh(H)"
   ]
  },
  {
   "cell_type": "code",
   "execution_count": 298,
   "metadata": {},
   "outputs": [
    {
     "data": {
      "text/plain": [
       "array([-4., -0., -0., -0.,  0.,  4.])"
      ]
     },
     "execution_count": 298,
     "metadata": {},
     "output_type": "execute_result"
    }
   ],
   "source": [
    "l.round(3)"
   ]
  },
  {
   "cell_type": "code",
   "execution_count": 299,
   "metadata": {},
   "outputs": [
    {
     "data": {
      "text/plain": [
       "array([0., 0., 0., 0., 0., 0.])"
      ]
     },
     "execution_count": 299,
     "metadata": {},
     "output_type": "execute_result"
    }
   ],
   "source": [
    "H @ np.array([1, 1., 0, 0, -1, 1])"
   ]
  },
  {
   "cell_type": "code",
   "execution_count": 300,
   "metadata": {},
   "outputs": [
    {
     "data": {
      "text/plain": [
       "array([0., 0., 0., 0., 0., 0.])"
      ]
     },
     "execution_count": 300,
     "metadata": {},
     "output_type": "execute_result"
    }
   ],
   "source": [
    "H @ np.array([1, 0., 1, 0, 1, 0])"
   ]
  },
  {
   "cell_type": "code",
   "execution_count": 301,
   "metadata": {},
   "outputs": [
    {
     "data": {
      "text/plain": [
       "array([0., 0., 0., 0., 0., 0.])"
      ]
     },
     "execution_count": 301,
     "metadata": {},
     "output_type": "execute_result"
    }
   ],
   "source": [
    "H @ np.array([0., 1, 0, 1, 0, 1])"
   ]
  },
  {
   "cell_type": "code",
   "execution_count": 302,
   "metadata": {},
   "outputs": [],
   "source": [
    "%run ../plotting.ipynb"
   ]
  },
  {
   "cell_type": "code",
   "execution_count": 303,
   "metadata": {},
   "outputs": [],
   "source": [
    "%run ../calculating.ipynb"
   ]
  },
  {
   "cell_type": "code",
   "execution_count": 304,
   "metadata": {},
   "outputs": [],
   "source": [
    "D = zeroModes2d(R, inertiaAxes2d(R[:,0],R[:,1]))"
   ]
  },
  {
   "cell_type": "code",
   "execution_count": 305,
   "metadata": {},
   "outputs": [
    {
     "data": {
      "image/png": "[encoded data removed]",
      "text/plain": [
       "<Figure size 1080x288 with 3 Axes>"
      ]
     },
     "metadata": {
      "needs_background": "light"
     },
     "output_type": "display_data"
    }
   ],
   "source": [
    "plot(R, D)"
   ]
  },
  {
   "cell_type": "code",
   "execution_count": 306,
   "metadata": {},
   "outputs": [
    {
     "data": {
      "text/plain": [
       "array([[ 2., -0.],\n",
       "       [-0.,  2.]])"
      ]
     },
     "execution_count": 306,
     "metadata": {},
     "output_type": "execute_result"
    }
   ],
   "source": [
    "inertiaAxes2d(R[:,0],R[:,1]).round(4)"
   ]
  },
  {
   "cell_type": "code",
   "execution_count": 307,
   "metadata": {},
   "outputs": [
    {
     "data": {
      "text/plain": [
       "array([[ 0.577,  0.   ,  0.577,  0.   ,  0.577,  0.   ],\n",
       "       [ 0.   ,  0.577,  0.   ,  0.577,  0.   ,  0.577],\n",
       "       [-0.5  , -0.5  , -0.   ,  0.   , -0.5  ,  0.5  ]])"
      ]
     },
     "execution_count": 307,
     "metadata": {},
     "output_type": "execute_result"
    }
   ],
   "source": [
    "D.round(3)"
   ]
  },
  {
   "cell_type": "code",
   "execution_count": 308,
   "metadata": {},
   "outputs": [],
   "source": [
    "D[2,2] = 1\n",
    "D[2] /= np.linalg.norm(D[2])"
   ]
  },
  {
   "cell_type": "code",
   "execution_count": 310,
   "metadata": {},
   "outputs": [
    {
     "data": {
      "text/plain": [
       "array([[ 0.577,  0.   ,  0.577,  0.   ,  0.577,  0.   ],\n",
       "       [ 0.   ,  0.577,  0.   ,  0.577,  0.   ,  0.577],\n",
       "       [-0.354, -0.354,  0.707,  0.   , -0.354,  0.354]])"
      ]
     },
     "execution_count": 310,
     "metadata": {},
     "output_type": "execute_result"
    }
   ],
   "source": [
    "D.round(3)"
   ]
  },
  {
   "cell_type": "code",
   "execution_count": 311,
   "metadata": {},
   "outputs": [],
   "source": [
    "l, v = l[l>-1e-3], v[l>-1e-3]"
   ]
  },
  {
   "cell_type": "code",
   "execution_count": 312,
   "metadata": {},
   "outputs": [],
   "source": [
    "v = np.array([\n",
    "    np.ones(6),\n",
    "    np.ones(6)*.5,\n",
    "    [-1, -1, 0, 0, 1, -1],\n",
    "])"
   ]
  },
  {
   "cell_type": "code",
   "execution_count": 313,
   "metadata": {
    "scrolled": true
   },
   "outputs": [
    {
     "data": {
      "text/plain": [
       "array([[ 0.5774,  0.    ,  0.5774,  0.    ,  0.5774,  0.    ],\n",
       "       [ 0.    ,  0.5774,  0.    ,  0.5774,  0.    ,  0.5774],\n",
       "       [-0.3536, -0.3536,  0.7071,  0.    , -0.3536,  0.3536]])"
      ]
     },
     "execution_count": 313,
     "metadata": {},
     "output_type": "execute_result"
    }
   ],
   "source": [
    "D.round(4)"
   ]
  },
  {
   "cell_type": "code",
   "execution_count": 314,
   "metadata": {},
   "outputs": [
    {
     "name": "stdout",
     "output_type": "stream",
     "text": [
      "0 1.7320508075688776\n",
      "0 1.7320508075688776\n",
      "0 0.0\n",
      "5.438959822042073e-16\n",
      "1 0.8660254037844388\n",
      "1 0.8660254037844388\n",
      "1 0.0\n",
      "1 2.719479911021037e-16\n",
      "6.038458424442253e-32\n",
      "2 0.0\n",
      "2 -1.1547005383792517\n",
      "2 5.2834386112946424e-18\n",
      "2 -2.220446049250313e-16\n",
      "2 -5.551115123125783e-17\n",
      "1.632993161855452\n"
     ]
    }
   ],
   "source": [
    "for i in range(len(v)):\n",
    "    tmp = v[i]\n",
    "    for j in range(len(D)):\n",
    "        print(i, D[j]@tmp)\n",
    "        tmp -= D[j]*(D[j]@tmp)\n",
    "    norm = np.linalg.norm(tmp)\n",
    "    print(norm)\n",
    "    if norm>1e-8: continue\n",
    "    D = np.append(D, (tmp/norm)[np.newaxis,:], 0)"
   ]
  },
  {
   "cell_type": "code",
   "execution_count": 315,
   "metadata": {},
   "outputs": [
    {
     "data": {
      "image/png": "[encoded data removed]",
      "text/plain": [
       "<Figure size 1080x288 with 6 Axes>"
      ]
     },
     "metadata": {
      "needs_background": "light"
     },
     "output_type": "display_data"
    }
   ],
   "source": [
    "plot(R, D)"
   ]
  },
  {
   "cell_type": "code",
   "execution_count": 316,
   "metadata": {},
   "outputs": [
    {
     "data": {
      "image/png": "[encoded data removed]",
      "text/plain": [
       "<Figure size 1080x288 with 3 Axes>"
      ]
     },
     "metadata": {
      "needs_background": "light"
     },
     "output_type": "display_data"
    }
   ],
   "source": [
    "plot(R, v)"
   ]
  },
  {
   "cell_type": "code",
   "execution_count": 318,
   "metadata": {},
   "outputs": [
    {
     "data": {
      "text/plain": [
       "array([[-0.   , -0.   , -0.   , -0.   , -0.   , -0.   ],\n",
       "       [ 0.   ,  0.   ,  0.   ,  0.   ,  0.   ,  0.   ],\n",
       "       [-1.   , -0.333, -0.   ,  0.667,  1.   , -0.333]])"
      ]
     },
     "execution_count": 318,
     "metadata": {},
     "output_type": "execute_result"
    }
   ],
   "source": [
    "v.round(3)"
   ]
  },
  {
   "cell_type": "code",
   "execution_count": null,
   "metadata": {},
   "outputs": [],
   "source": []
  }
 ],
 "metadata": {
  "kernelspec": {
   "display_name": "Python 3",
   "language": "python",
   "name": "python3"
  },
  "language_info": {
   "codemirror_mode": {
    "name": "ipython",
    "version": 3
   },
   "file_extension": ".py",
   "mimetype": "text/x-python",
   "name": "python",
   "nbconvert_exporter": "python",
   "pygments_lexer": "ipython3",
   "version": "3.7.4"
  }
 },
 "nbformat": 4,
 "nbformat_minor": 2
}

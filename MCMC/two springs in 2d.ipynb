{
 "cells": [
  {
   "cell_type": "code",
   "execution_count": null,
   "metadata": {},
   "outputs": [],
   "source": [
    "import tensorflow as tf\n",
    "import tensorflow_probability as tfp"
   ]
  },
  {
   "cell_type": "code",
   "execution_count": null,
   "metadata": {},
   "outputs": [],
   "source": [
    "import numpy as np"
   ]
  },
  {
   "cell_type": "code",
   "execution_count": null,
   "metadata": {},
   "outputs": [],
   "source": [
    "import seaborn as sns"
   ]
  },
  {
   "cell_type": "markdown",
   "metadata": {},
   "source": [
    "### info from the tutorial"
   ]
  },
  {
   "cell_type": "code",
   "execution_count": null,
   "metadata": {},
   "outputs": [],
   "source": [
    "### How to get the mean, std, acceptance - from the tutorial\n",
    "#     samples, is_accepted = tfp.mcmc.sample_chain(\n",
    "#         ...\n",
    "#         trace_fn=lambda _, pkr: pkr.inner_results.is_accepted)\n",
    "\n",
    "#     sample_mean = tf.reduce_mean(samples)\n",
    "#     sample_stddev = tf.math.reduce_std(samples)\n",
    "#     is_accepted = tf.reduce_mean(tf.cast(is_accepted, dtype=tf.float32))\n"
   ]
  },
  {
   "cell_type": "markdown",
   "metadata": {},
   "source": [
    "### defining essentials"
   ]
  },
  {
   "cell_type": "code",
   "execution_count": null,
   "metadata": {},
   "outputs": [],
   "source": [
    "R = np.array([\n",
    "    [-1, 1],\n",
    "    [0., 0.],\n",
    "    [1, 1.],\n",
    "], np.float32)*10"
   ]
  },
  {
   "cell_type": "markdown",
   "metadata": {},
   "source": [
    "### defining a potential function"
   ]
  },
  {
   "cell_type": "code",
   "execution_count": null,
   "metadata": {},
   "outputs": [],
   "source": [
    "def potential(displacements):\n",
    "    N,k = R.shape\n",
    "    total = 0.\n",
    "    springs = [(0,1),(1,2)]\n",
    "    D = np.zeros((3,R.shape[0]*R.shape[1]),np.float32)\n",
    "    for i in range(2): D[i,i::2] = 1.\n",
    "    D[2] = np.array([1, 1, -2, 0, 1, -1], np.float32)\n",
    "    for i in range(3):\n",
    "        D[i] = D[i]/np.linalg.norm(D[i])\n",
    "        total += 20. * tf.abs(tf.tensordot(D[i],displacements,1))\n",
    "\n",
    "    displacements = tf.reshape(displacements, R.shape)\n",
    "    for i,(start,stop) in enumerate(springs):\n",
    "        springs = R[stop]-R[start]\n",
    "        move = displacements[stop]-displacements[start]\n",
    "        s = tf.sqrt(tf.tensordot(springs,springs,1))\n",
    "        s2 = tf.sqrt(tf.tensordot(springs+move,springs+move,1))\n",
    "        #print(springs, s.numpy(), move, s2.numpy())\n",
    "        total += (s2-s)**2\n",
    "        \n",
    "    return total"
   ]
  },
  {
   "cell_type": "markdown",
   "metadata": {},
   "source": [
    "## 0 energy"
   ]
  },
  {
   "cell_type": "code",
   "execution_count": null,
   "metadata": {},
   "outputs": [],
   "source": [
    "potential(np.array([0, 0, 0., 0, 0, 0],np.float32)).numpy()"
   ]
  },
  {
   "cell_type": "code",
   "execution_count": null,
   "metadata": {},
   "outputs": [],
   "source": [
    "potential(np.array([1, 1, 1., 1, 1, 1],np.float32)).numpy()"
   ]
  },
  {
   "cell_type": "markdown",
   "metadata": {},
   "source": [
    "## hinge"
   ]
  },
  {
   "cell_type": "code",
   "execution_count": null,
   "metadata": {},
   "outputs": [],
   "source": [
    "potential(np.array([1, 1, 0, -2, -1, 1],np.float32)).numpy()"
   ]
  },
  {
   "cell_type": "markdown",
   "metadata": {},
   "source": [
    "## stretching"
   ]
  },
  {
   "cell_type": "code",
   "execution_count": null,
   "metadata": {},
   "outputs": [],
   "source": [
    "potential(np.array([-1, 1, 0, -2, 1, 1],np.float32)).numpy()"
   ]
  },
  {
   "cell_type": "code",
   "execution_count": null,
   "metadata": {},
   "outputs": [],
   "source": [
    "potential(np.array([0, 1, -1, 0., 0, -2],np.float32)).numpy()"
   ]
  },
  {
   "cell_type": "markdown",
   "metadata": {},
   "source": [
    "### plug into HMCMC"
   ]
  },
  {
   "cell_type": "code",
   "execution_count": null,
   "metadata": {},
   "outputs": [],
   "source": [
    "# Target distribution is proportional to: `exp(-U)`.\n",
    "@tf.function\n",
    "def unnormalized_log_prob(x):\n",
    "    return -1.*potential(x) # this should be the energy function"
   ]
  },
  {
   "cell_type": "code",
   "execution_count": null,
   "metadata": {},
   "outputs": [],
   "source": [
    "# Initialize the HMC transition kernel.\n",
    "num_results = int(4e4)\n",
    "num_burnin_steps = int(2e3)\n",
    "adaptive_hmc = tfp.mcmc.SimpleStepSizeAdaptation(\n",
    "    tfp.mcmc.HamiltonianMonteCarlo(\n",
    "        target_log_prob_fn=unnormalized_log_prob,\n",
    "        num_leapfrog_steps=3,\n",
    "        step_size=1.),\n",
    "    num_adaptation_steps=int(num_burnin_steps * 0.8))"
   ]
  },
  {
   "cell_type": "code",
   "execution_count": null,
   "metadata": {},
   "outputs": [],
   "source": [
    "# Run the chain (with burn-in).\n",
    "@tf.function\n",
    "def run_chain():\n",
    "    # Run the chain (with burn-in).\n",
    "    samples = tfp.mcmc.sample_chain(\n",
    "        num_results=num_results,\n",
    "        num_burnin_steps=num_burnin_steps,\n",
    "        current_state=tf.ones(6),\n",
    "        kernel=adaptive_hmc,\n",
    "        return_final_kernel_results=True,\n",
    "        trace_fn=None)\n",
    "\n",
    "    return samples"
   ]
  },
  {
   "cell_type": "markdown",
   "metadata": {},
   "source": [
    "### Visualize"
   ]
  },
  {
   "cell_type": "code",
   "execution_count": null,
   "metadata": {},
   "outputs": [],
   "source": [
    "s = run_chain()"
   ]
  },
  {
   "cell_type": "code",
   "execution_count": null,
   "metadata": {},
   "outputs": [],
   "source": [
    "X = s.all_states.numpy()"
   ]
  },
  {
   "cell_type": "code",
   "execution_count": null,
   "metadata": {},
   "outputs": [],
   "source": [
    "for i in range(len(X)):\n",
    "    for j in range(2):\n",
    "        X[i,j::2] -= np.mean(X[i,j::2])"
   ]
  },
  {
   "cell_type": "code",
   "execution_count": null,
   "metadata": {},
   "outputs": [],
   "source": [
    "def plot(R,X):\n",
    "    r_range = np.linspace(-1,1,R.shape[0])\n",
    "    for i in range(R.shape[0]):\n",
    "        r = r_range[i]\n",
    "        scale = 1.\n",
    "        cmap = sns.cubehelix_palette(light=1, rot=r, as_cmap=True)\n",
    "\n",
    "        ax = sns.kdeplot(R[i,0]+X[:,i*R.shape[1]]*scale, \n",
    "                         R[i,1]+X[:,i*R.shape[1]+1]*scale, \n",
    "                         cmap=cmap, \n",
    "                         shade=True, shade_lowest=False)"
   ]
  },
  {
   "cell_type": "code",
   "execution_count": null,
   "metadata": {},
   "outputs": [],
   "source": [
    "plot(R,X)"
   ]
  },
  {
   "cell_type": "code",
   "execution_count": null,
   "metadata": {},
   "outputs": [],
   "source": [
    "plot(R[:2],X)"
   ]
  },
  {
   "cell_type": "code",
   "execution_count": null,
   "metadata": {},
   "outputs": [],
   "source": [
    "plot(R[1:],X[:,2:])"
   ]
  },
  {
   "cell_type": "code",
   "execution_count": null,
   "metadata": {},
   "outputs": [],
   "source": [
    "import matplotlib.pyplot as plt"
   ]
  },
  {
   "cell_type": "code",
   "execution_count": null,
   "metadata": {},
   "outputs": [],
   "source": [
    "import numpy as np"
   ]
  },
  {
   "cell_type": "code",
   "execution_count": null,
   "metadata": {},
   "outputs": [],
   "source": [
    "def dist(a,b):\n",
    "    return np.sqrt(np.sum((a-b)**2,1))"
   ]
  },
  {
   "cell_type": "code",
   "execution_count": null,
   "metadata": {},
   "outputs": [],
   "source": [
    "np.sqrt(np.sum((R[1]-R[0])**2))"
   ]
  },
  {
   "cell_type": "code",
   "execution_count": null,
   "metadata": {},
   "outputs": [],
   "source": [
    "plt.hist(dist(X[:,:2],X[:,2:4]), bins=30, histtype='step');"
   ]
  },
  {
   "cell_type": "code",
   "execution_count": null,
   "metadata": {},
   "outputs": [],
   "source": [
    "plt.hist(dist(X[:,-2:],X[:,2:4]), bins=30, histtype='step');"
   ]
  },
  {
   "cell_type": "code",
   "execution_count": null,
   "metadata": {},
   "outputs": [],
   "source": []
  }
 ],
 "metadata": {
  "kernelspec": {
   "display_name": "Python 3",
   "language": "python",
   "name": "python3"
  },
  "language_info": {
   "codemirror_mode": {
    "name": "ipython",
    "version": 3
   },
   "file_extension": ".py",
   "mimetype": "text/x-python",
   "name": "python",
   "nbconvert_exporter": "python",
   "pygments_lexer": "ipython3",
   "version": "3.7.4"
  }
 },
 "nbformat": 4,
 "nbformat_minor": 2
}

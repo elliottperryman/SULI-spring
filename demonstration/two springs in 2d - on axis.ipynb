{
 "cells": [
  {
   "cell_type": "code",
   "execution_count": null,
   "metadata": {},
   "outputs": [],
   "source": [
    "%run ../Calculating.ipynb"
   ]
  },
  {
   "cell_type": "code",
   "execution_count": null,
   "metadata": {},
   "outputs": [],
   "source": [
    "%run ../Plotting.ipynb"
   ]
  },
  {
   "cell_type": "code",
   "execution_count": null,
   "metadata": {},
   "outputs": [],
   "source": [
    "R = np.array([\n",
    "    [0., 0],\n",
    "    [1, 0],\n",
    "    [-1, 0],\n",
    "])"
   ]
  },
  {
   "cell_type": "code",
   "execution_count": null,
   "metadata": {},
   "outputs": [],
   "source": [
    "springs = [(0,1),(0,2)]"
   ]
  },
  {
   "cell_type": "code",
   "execution_count": null,
   "metadata": {},
   "outputs": [],
   "source": [
    "H, l, v, D = calc(R, springs)"
   ]
  },
  {
   "cell_type": "code",
   "execution_count": null,
   "metadata": {},
   "outputs": [],
   "source": [
    "plot(R, D[:3], .5)"
   ]
  },
  {
   "cell_type": "code",
   "execution_count": null,
   "metadata": {},
   "outputs": [],
   "source": [
    "plot(R, D[3:], .5)"
   ]
  },
  {
   "cell_type": "code",
   "execution_count": null,
   "metadata": {},
   "outputs": [],
   "source": [
    "# def Energy(R, springs, displacements):\n",
    "#     return .5 * np.sum([ ((displacements[stop] - displacements[start]) @ ((R[stop]-start)/np.linalg.norm(R[stop]-R[start])))**2 for (start,stop) in springs])\n",
    "\n",
    "def Energy(R, springs, displacements):\n",
    "    E = 0\n",
    "    for i, (start,stop) in enumerate(springs):\n",
    "        v = R[stop] - R[start]\n",
    "        v /= np.linalg.norm(v)\n",
    "        \n",
    "        stretch = displacements[stop] - displacements[start]\n",
    "        \n",
    "        E += .5 * (stretch @ v)**2\n",
    "    return E"
   ]
  },
  {
   "cell_type": "code",
   "execution_count": null,
   "metadata": {},
   "outputs": [],
   "source": [
    "N,k = R.shape"
   ]
  },
  {
   "cell_type": "code",
   "execution_count": null,
   "metadata": {},
   "outputs": [],
   "source": [
    "H = np.zeros((N,k,N,k))"
   ]
  },
  {
   "cell_type": "code",
   "execution_count": null,
   "metadata": {},
   "outputs": [],
   "source": [
    "for (start,stop) in springs:\n",
    "    v = R[stop] - R[start]\n",
    "    v /= np.linalg.norm(v)\n",
    "    v = v.reshape(-1,1)\n",
    "    H[start,:,start,:] += v @ v.T\n",
    "    H[stop,:,stop,:] += v @ v.T\n",
    "    H[start,:,stop,:] -= v @ v.T\n",
    "H = H.reshape(N*k,N*k)\n",
    "H += H.T - np.eye(H.shape[0])*np.diag(H)"
   ]
  },
  {
   "cell_type": "code",
   "execution_count": null,
   "metadata": {},
   "outputs": [],
   "source": [
    "R"
   ]
  },
  {
   "cell_type": "code",
   "execution_count": null,
   "metadata": {},
   "outputs": [],
   "source": [
    "H.round(3)"
   ]
  },
  {
   "cell_type": "code",
   "execution_count": null,
   "metadata": {},
   "outputs": [],
   "source": [
    "np.linalg.eigh(H)[0].round(2)"
   ]
  },
  {
   "cell_type": "code",
   "execution_count": null,
   "metadata": {},
   "outputs": [],
   "source": [
    "(H @ D[3].reshape(-1,1)).round(3)"
   ]
  },
  {
   "cell_type": "code",
   "execution_count": null,
   "metadata": {},
   "outputs": [],
   "source": []
  },
  {
   "cell_type": "code",
   "execution_count": null,
   "metadata": {},
   "outputs": [],
   "source": [
    "Energy(R, springs, np.array([\n",
    "    [1., 0],\n",
    "    [0, 0],\n",
    "    [0, 0]\n",
    "]))"
   ]
  },
  {
   "cell_type": "code",
   "execution_count": null,
   "metadata": {},
   "outputs": [],
   "source": [
    "X = np.arange(-1,1,1e-2)\n",
    "Y = np.arange(-1,1,1e-2)"
   ]
  },
  {
   "cell_type": "code",
   "execution_count": null,
   "metadata": {},
   "outputs": [],
   "source": [
    "Z = np.empty((len(X),len(Y)))"
   ]
  },
  {
   "cell_type": "code",
   "execution_count": null,
   "metadata": {},
   "outputs": [],
   "source": [
    "for i in range(len(X)):\n",
    "    for j in range((len(Y))):\n",
    "        Z[i,j] = Energy(R, springs, np.array([\n",
    "            [X[i], Y[j]],\n",
    "            np.zeros(2),\n",
    "            np.zeros(2),\n",
    "        ]))"
   ]
  },
  {
   "cell_type": "code",
   "execution_count": null,
   "metadata": {},
   "outputs": [],
   "source": [
    "plt.contourf(X,Y,Z.T); plt.colorbar();"
   ]
  },
  {
   "cell_type": "code",
   "execution_count": null,
   "metadata": {},
   "outputs": [],
   "source": [
    "for i in range(len(X)):\n",
    "    for j in range((len(Y))):\n",
    "        Z[i,j] = Energy(R, springs, np.array([\n",
    "            np.zeros(2),\n",
    "            [X[i], Y[j]],\n",
    "            np.zeros(2),\n",
    "        ]))"
   ]
  },
  {
   "cell_type": "code",
   "execution_count": null,
   "metadata": {},
   "outputs": [],
   "source": [
    "plt.contourf(X,Y,Z.T); plt.colorbar();"
   ]
  },
  {
   "cell_type": "code",
   "execution_count": null,
   "metadata": {},
   "outputs": [],
   "source": [
    "for i in range(len(X)):\n",
    "    for j in range((len(Y))):\n",
    "        Z[i,j] = Energy(R, springs, np.array([\n",
    "            np.zeros(2),\n",
    "            np.zeros(2),\n",
    "            [X[i], Y[j]],\n",
    "        ]))"
   ]
  },
  {
   "cell_type": "code",
   "execution_count": null,
   "metadata": {},
   "outputs": [],
   "source": [
    "plt.contourf(X,Y,Z.T); plt.colorbar();"
   ]
  },
  {
   "cell_type": "code",
   "execution_count": null,
   "metadata": {},
   "outputs": [],
   "source": []
  },
  {
   "cell_type": "code",
   "execution_count": null,
   "metadata": {},
   "outputs": [],
   "source": []
  }
 ],
 "metadata": {
  "kernelspec": {
   "display_name": "Python 3",
   "language": "python",
   "name": "python3"
  },
  "language_info": {
   "codemirror_mode": {
    "name": "ipython",
    "version": 3
   },
   "file_extension": ".py",
   "mimetype": "text/x-python",
   "name": "python",
   "nbconvert_exporter": "python",
   "pygments_lexer": "ipython3",
   "version": "3.7.4"
  }
 },
 "nbformat": 4,
 "nbformat_minor": 4
}

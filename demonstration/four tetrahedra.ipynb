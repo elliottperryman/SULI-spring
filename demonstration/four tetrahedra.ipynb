{
 "cells": [
  {
   "cell_type": "code",
   "execution_count": null,
   "metadata": {},
   "outputs": [],
   "source": [
    "%run ../calculating.ipynb"
   ]
  },
  {
   "cell_type": "code",
   "execution_count": null,
   "metadata": {},
   "outputs": [],
   "source": [
    "%run ../plotting.ipynb"
   ]
  },
  {
   "cell_type": "markdown",
   "metadata": {},
   "source": [
    "These and ***pretty much the rest of the code*** is straight from Tess Smidt: [Tess's website](https://blondegeek.github.io)"
   ]
  },
  {
   "cell_type": "code",
   "execution_count": null,
   "metadata": {},
   "outputs": [],
   "source": [
    "R = np.array([\n",
    "    [0., 0., 0.], [1., 1., 0], \n",
    "    [0., 1., 1.], [1., 0., 1.],\n",
    "    [0., 1., -1.], [1., 0., -1.],\n",
    "    [2., 1., -1.], [2., 0., 0.],\n",
    "    [2, 1, 1],\n",
    "])\n",
    "\n",
    "springs = [\n",
    "    (0, 1), (0, 2), (0, 3), (0, 4), (0, 5), \n",
    "    (1, 2), (1, 3), (1, 4), (1, 5), (1, 6), (1, 7), (1, 8),\n",
    "    (2, 3),\n",
    "    (3, 7), (3, 8),\n",
    "    (4, 5),\n",
    "    (5, 6), (5, 7),\n",
    "    (6, 7),\n",
    "    (7, 8)\n",
    "]\n"
   ]
  },
  {
   "cell_type": "code",
   "execution_count": null,
   "metadata": {},
   "outputs": [],
   "source": [
    "H, l, v, D = calc(R, springs)"
   ]
  },
  {
   "cell_type": "code",
   "execution_count": null,
   "metadata": {},
   "outputs": [],
   "source": [
    "l.round(3)"
   ]
  },
  {
   "cell_type": "code",
   "execution_count": null,
   "metadata": {},
   "outputs": [],
   "source": [
    "plot(R, D[:6], 6)"
   ]
  },
  {
   "cell_type": "code",
   "execution_count": null,
   "metadata": {},
   "outputs": [],
   "source": [
    "plot(R, D[6:9], 6)"
   ]
  },
  {
   "cell_type": "code",
   "execution_count": null,
   "metadata": {},
   "outputs": [],
   "source": []
  }
 ],
 "metadata": {
  "kernelspec": {
   "display_name": "Python 3",
   "language": "python",
   "name": "python3"
  },
  "language_info": {
   "codemirror_mode": {
    "name": "ipython",
    "version": 3
   },
   "file_extension": ".py",
   "mimetype": "text/x-python",
   "name": "python",
   "nbconvert_exporter": "python",
   "pygments_lexer": "ipython3",
   "version": "3.7.4"
  }
 },
 "nbformat": 4,
 "nbformat_minor": 2
}
